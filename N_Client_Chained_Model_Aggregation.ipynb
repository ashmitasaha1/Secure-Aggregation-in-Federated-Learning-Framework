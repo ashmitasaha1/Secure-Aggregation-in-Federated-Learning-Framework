{
  "nbformat": 4,
  "nbformat_minor": 0,
  "metadata": {
    "colab": {
      "provenance": [],
      "mount_file_id": "1CVKaXZ8O20ix5rS3bww2yCFRFJbRfhbG",
      "authorship_tag": "ABX9TyMnSSd5CULYIHb91aVVsyiV",
      "include_colab_link": true
    },
    "kernelspec": {
      "name": "python3",
      "display_name": "Python 3"
    },
    "language_info": {
      "name": "python"
    }
  },
  "cells": [
    {
      "cell_type": "markdown",
      "metadata": {
        "id": "view-in-github",
        "colab_type": "text"
      },
      "source": [
        "<a href=\"https://colab.research.google.com/github/ashmitasaha1/Secure-Aggregation-in-Federated-Learning-Framework/blob/main/N_Client_Chained_Model_Aggregation.ipynb\" target=\"_parent\"><img src=\"https://colab.research.google.com/assets/colab-badge.svg\" alt=\"Open In Colab\"/></a>"
      ]
    },
    {
      "cell_type": "markdown",
      "source": [
        "##Logistic Regression on Adult Census Dataset"
      ],
      "metadata": {
        "id": "i94GxdkLiYhU"
      }
    },
    {
      "cell_type": "markdown",
      "source": [
        "Parameters - <br> <br>\n",
        "age: the age of an individual <br>\n",
        "workclass: a general term to represent the employment status of an individual <br>\n",
        "fnlwgt: final weight. This is the number of people the census believes the entry represents.. <br>\n",
        "education: the highest level of education achieved by an individual. <br>\n",
        "education­num: the highest level of education achieved in numerical form. <br>\n",
        "marital­status: marital status of an individual. <br>\n",
        "occupation: the general type of occupation of an individual <br>\n",
        "relationship: represents what this individual is relative to others. <br>\n",
        "race: Descriptions of an individual’s race <br>\n",
        "sex: the sex of the individual <br>\n",
        "capital­gain: capital gains for an individual <br>\n",
        "capital­loss: capital loss for an individual <br>\n",
        "hours­per­week: the hours an individual has reported to work per week <br>\n",
        "native­country: country of origin for an individual <br>\n",
        "<br>\n",
        "Data Preprocessing\n",
        "1.   Replace ? with NaN\n",
        "2.   Replace NaN with most frequent value since categorical features\n"
      ],
      "metadata": {
        "id": "6dnQtsr4mFC3"
      }
    },
    {
      "cell_type": "markdown",
      "source": [
        "###Introduction: Loading dataset"
      ],
      "metadata": {
        "id": "rfVZ1T2KpK-K"
      }
    },
    {
      "cell_type": "code",
      "source": [
        "import numpy as np\n",
        "import pandas as pd\n",
        "from sklearn.linear_model import LogisticRegression\n",
        "from sklearn.linear_model import LinearRegression\n",
        "from sklearn.metrics import accuracy_score\n",
        "import copy\n",
        "import matplotlib.pyplot as plt\n",
        "import seaborn as sns"
      ],
      "metadata": {
        "id": "1SXII7rs29l3"
      },
      "execution_count": null,
      "outputs": []
    },
    {
      "cell_type": "code",
      "source": [
        "# Load the dataset\n",
        "df = pd.read_csv(\"/content/drive/MyDrive/Colab Notebooks/datasets/adult.csv\")"
      ],
      "metadata": {
        "id": "Ac9xYUb94tWa"
      },
      "execution_count": null,
      "outputs": []
    },
    {
      "cell_type": "code",
      "source": [
        "df.head()"
      ],
      "metadata": {
        "colab": {
          "base_uri": "https://localhost:8080/"
        },
        "id": "pyRuZu-Q5KtR",
        "outputId": "74cf2691-0702-403e-8fa2-c30293ea50db"
      },
      "execution_count": null,
      "outputs": [
        {
          "output_type": "execute_result",
          "data": {
            "text/plain": [
              "   age workclass  fnlwgt     education  education.num marital.status  \\\n",
              "0   90         ?   77053       HS-grad              9        Widowed   \n",
              "1   82   Private  132870       HS-grad              9        Widowed   \n",
              "2   66         ?  186061  Some-college             10        Widowed   \n",
              "3   54   Private  140359       7th-8th              4       Divorced   \n",
              "4   41   Private  264663  Some-college             10      Separated   \n",
              "\n",
              "          occupation   relationship   race     sex  capital.gain  \\\n",
              "0                  ?  Not-in-family  White  Female             0   \n",
              "1    Exec-managerial  Not-in-family  White  Female             0   \n",
              "2                  ?      Unmarried  Black  Female             0   \n",
              "3  Machine-op-inspct      Unmarried  White  Female             0   \n",
              "4     Prof-specialty      Own-child  White  Female             0   \n",
              "\n",
              "   capital.loss  hours.per.week native.country income  \n",
              "0          4356              40  United-States  <=50K  \n",
              "1          4356              18  United-States  <=50K  \n",
              "2          4356              40  United-States  <=50K  \n",
              "3          3900              40  United-States  <=50K  \n",
              "4          3900              40  United-States  <=50K  "
            ],
            "text/html": [
              "\n",
              "  <div id=\"df-49efacc7-877c-4c58-87f8-e903b6b1876a\" class=\"colab-df-container\">\n",
              "    <div>\n",
              "<style scoped>\n",
              "    .dataframe tbody tr th:only-of-type {\n",
              "        vertical-align: middle;\n",
              "    }\n",
              "\n",
              "    .dataframe tbody tr th {\n",
              "        vertical-align: top;\n",
              "    }\n",
              "\n",
              "    .dataframe thead th {\n",
              "        text-align: right;\n",
              "    }\n",
              "</style>\n",
              "<table border=\"1\" class=\"dataframe\">\n",
              "  <thead>\n",
              "    <tr style=\"text-align: right;\">\n",
              "      <th></th>\n",
              "      <th>age</th>\n",
              "      <th>workclass</th>\n",
              "      <th>fnlwgt</th>\n",
              "      <th>education</th>\n",
              "      <th>education.num</th>\n",
              "      <th>marital.status</th>\n",
              "      <th>occupation</th>\n",
              "      <th>relationship</th>\n",
              "      <th>race</th>\n",
              "      <th>sex</th>\n",
              "      <th>capital.gain</th>\n",
              "      <th>capital.loss</th>\n",
              "      <th>hours.per.week</th>\n",
              "      <th>native.country</th>\n",
              "      <th>income</th>\n",
              "    </tr>\n",
              "  </thead>\n",
              "  <tbody>\n",
              "    <tr>\n",
              "      <th>0</th>\n",
              "      <td>90</td>\n",
              "      <td>?</td>\n",
              "      <td>77053</td>\n",
              "      <td>HS-grad</td>\n",
              "      <td>9</td>\n",
              "      <td>Widowed</td>\n",
              "      <td>?</td>\n",
              "      <td>Not-in-family</td>\n",
              "      <td>White</td>\n",
              "      <td>Female</td>\n",
              "      <td>0</td>\n",
              "      <td>4356</td>\n",
              "      <td>40</td>\n",
              "      <td>United-States</td>\n",
              "      <td>&lt;=50K</td>\n",
              "    </tr>\n",
              "    <tr>\n",
              "      <th>1</th>\n",
              "      <td>82</td>\n",
              "      <td>Private</td>\n",
              "      <td>132870</td>\n",
              "      <td>HS-grad</td>\n",
              "      <td>9</td>\n",
              "      <td>Widowed</td>\n",
              "      <td>Exec-managerial</td>\n",
              "      <td>Not-in-family</td>\n",
              "      <td>White</td>\n",
              "      <td>Female</td>\n",
              "      <td>0</td>\n",
              "      <td>4356</td>\n",
              "      <td>18</td>\n",
              "      <td>United-States</td>\n",
              "      <td>&lt;=50K</td>\n",
              "    </tr>\n",
              "    <tr>\n",
              "      <th>2</th>\n",
              "      <td>66</td>\n",
              "      <td>?</td>\n",
              "      <td>186061</td>\n",
              "      <td>Some-college</td>\n",
              "      <td>10</td>\n",
              "      <td>Widowed</td>\n",
              "      <td>?</td>\n",
              "      <td>Unmarried</td>\n",
              "      <td>Black</td>\n",
              "      <td>Female</td>\n",
              "      <td>0</td>\n",
              "      <td>4356</td>\n",
              "      <td>40</td>\n",
              "      <td>United-States</td>\n",
              "      <td>&lt;=50K</td>\n",
              "    </tr>\n",
              "    <tr>\n",
              "      <th>3</th>\n",
              "      <td>54</td>\n",
              "      <td>Private</td>\n",
              "      <td>140359</td>\n",
              "      <td>7th-8th</td>\n",
              "      <td>4</td>\n",
              "      <td>Divorced</td>\n",
              "      <td>Machine-op-inspct</td>\n",
              "      <td>Unmarried</td>\n",
              "      <td>White</td>\n",
              "      <td>Female</td>\n",
              "      <td>0</td>\n",
              "      <td>3900</td>\n",
              "      <td>40</td>\n",
              "      <td>United-States</td>\n",
              "      <td>&lt;=50K</td>\n",
              "    </tr>\n",
              "    <tr>\n",
              "      <th>4</th>\n",
              "      <td>41</td>\n",
              "      <td>Private</td>\n",
              "      <td>264663</td>\n",
              "      <td>Some-college</td>\n",
              "      <td>10</td>\n",
              "      <td>Separated</td>\n",
              "      <td>Prof-specialty</td>\n",
              "      <td>Own-child</td>\n",
              "      <td>White</td>\n",
              "      <td>Female</td>\n",
              "      <td>0</td>\n",
              "      <td>3900</td>\n",
              "      <td>40</td>\n",
              "      <td>United-States</td>\n",
              "      <td>&lt;=50K</td>\n",
              "    </tr>\n",
              "  </tbody>\n",
              "</table>\n",
              "</div>\n",
              "    <div class=\"colab-df-buttons\">\n",
              "\n",
              "  <div class=\"colab-df-container\">\n",
              "    <button class=\"colab-df-convert\" onclick=\"convertToInteractive('df-49efacc7-877c-4c58-87f8-e903b6b1876a')\"\n",
              "            title=\"Convert this dataframe to an interactive table.\"\n",
              "            style=\"display:none;\">\n",
              "\n",
              "  <svg xmlns=\"http://www.w3.org/2000/svg\" height=\"24px\" viewBox=\"0 -960 960 960\">\n",
              "    <path d=\"M120-120v-720h720v720H120Zm60-500h600v-160H180v160Zm220 220h160v-160H400v160Zm0 220h160v-160H400v160ZM180-400h160v-160H180v160Zm440 0h160v-160H620v160ZM180-180h160v-160H180v160Zm440 0h160v-160H620v160Z\"/>\n",
              "  </svg>\n",
              "    </button>\n",
              "\n",
              "  <style>\n",
              "    .colab-df-container {\n",
              "      display:flex;\n",
              "      gap: 12px;\n",
              "    }\n",
              "\n",
              "    .colab-df-convert {\n",
              "      background-color: #E8F0FE;\n",
              "      border: none;\n",
              "      border-radius: 50%;\n",
              "      cursor: pointer;\n",
              "      display: none;\n",
              "      fill: #1967D2;\n",
              "      height: 32px;\n",
              "      padding: 0 0 0 0;\n",
              "      width: 32px;\n",
              "    }\n",
              "\n",
              "    .colab-df-convert:hover {\n",
              "      background-color: #E2EBFA;\n",
              "      box-shadow: 0px 1px 2px rgba(60, 64, 67, 0.3), 0px 1px 3px 1px rgba(60, 64, 67, 0.15);\n",
              "      fill: #174EA6;\n",
              "    }\n",
              "\n",
              "    .colab-df-buttons div {\n",
              "      margin-bottom: 4px;\n",
              "    }\n",
              "\n",
              "    [theme=dark] .colab-df-convert {\n",
              "      background-color: #3B4455;\n",
              "      fill: #D2E3FC;\n",
              "    }\n",
              "\n",
              "    [theme=dark] .colab-df-convert:hover {\n",
              "      background-color: #434B5C;\n",
              "      box-shadow: 0px 1px 3px 1px rgba(0, 0, 0, 0.15);\n",
              "      filter: drop-shadow(0px 1px 2px rgba(0, 0, 0, 0.3));\n",
              "      fill: #FFFFFF;\n",
              "    }\n",
              "  </style>\n",
              "\n",
              "    <script>\n",
              "      const buttonEl =\n",
              "        document.querySelector('#df-49efacc7-877c-4c58-87f8-e903b6b1876a button.colab-df-convert');\n",
              "      buttonEl.style.display =\n",
              "        google.colab.kernel.accessAllowed ? 'block' : 'none';\n",
              "\n",
              "      async function convertToInteractive(key) {\n",
              "        const element = document.querySelector('#df-49efacc7-877c-4c58-87f8-e903b6b1876a');\n",
              "        const dataTable =\n",
              "          await google.colab.kernel.invokeFunction('convertToInteractive',\n",
              "                                                    [key], {});\n",
              "        if (!dataTable) return;\n",
              "\n",
              "        const docLinkHtml = 'Like what you see? Visit the ' +\n",
              "          '<a target=\"_blank\" href=https://colab.research.google.com/notebooks/data_table.ipynb>data table notebook</a>'\n",
              "          + ' to learn more about interactive tables.';\n",
              "        element.innerHTML = '';\n",
              "        dataTable['output_type'] = 'display_data';\n",
              "        await google.colab.output.renderOutput(dataTable, element);\n",
              "        const docLink = document.createElement('div');\n",
              "        docLink.innerHTML = docLinkHtml;\n",
              "        element.appendChild(docLink);\n",
              "      }\n",
              "    </script>\n",
              "  </div>\n",
              "\n",
              "\n",
              "<div id=\"df-9811cbf0-5a5d-4df7-ab5d-23e78fa09b17\">\n",
              "  <button class=\"colab-df-quickchart\" onclick=\"quickchart('df-9811cbf0-5a5d-4df7-ab5d-23e78fa09b17')\"\n",
              "            title=\"Suggest charts.\"\n",
              "            style=\"display:none;\">\n",
              "\n",
              "<svg xmlns=\"http://www.w3.org/2000/svg\" height=\"24px\"viewBox=\"0 0 24 24\"\n",
              "     width=\"24px\">\n",
              "    <g>\n",
              "        <path d=\"M19 3H5c-1.1 0-2 .9-2 2v14c0 1.1.9 2 2 2h14c1.1 0 2-.9 2-2V5c0-1.1-.9-2-2-2zM9 17H7v-7h2v7zm4 0h-2V7h2v10zm4 0h-2v-4h2v4z\"/>\n",
              "    </g>\n",
              "</svg>\n",
              "  </button>\n",
              "\n",
              "<style>\n",
              "  .colab-df-quickchart {\n",
              "      --bg-color: #E8F0FE;\n",
              "      --fill-color: #1967D2;\n",
              "      --hover-bg-color: #E2EBFA;\n",
              "      --hover-fill-color: #174EA6;\n",
              "      --disabled-fill-color: #AAA;\n",
              "      --disabled-bg-color: #DDD;\n",
              "  }\n",
              "\n",
              "  [theme=dark] .colab-df-quickchart {\n",
              "      --bg-color: #3B4455;\n",
              "      --fill-color: #D2E3FC;\n",
              "      --hover-bg-color: #434B5C;\n",
              "      --hover-fill-color: #FFFFFF;\n",
              "      --disabled-bg-color: #3B4455;\n",
              "      --disabled-fill-color: #666;\n",
              "  }\n",
              "\n",
              "  .colab-df-quickchart {\n",
              "    background-color: var(--bg-color);\n",
              "    border: none;\n",
              "    border-radius: 50%;\n",
              "    cursor: pointer;\n",
              "    display: none;\n",
              "    fill: var(--fill-color);\n",
              "    height: 32px;\n",
              "    padding: 0;\n",
              "    width: 32px;\n",
              "  }\n",
              "\n",
              "  .colab-df-quickchart:hover {\n",
              "    background-color: var(--hover-bg-color);\n",
              "    box-shadow: 0 1px 2px rgba(60, 64, 67, 0.3), 0 1px 3px 1px rgba(60, 64, 67, 0.15);\n",
              "    fill: var(--button-hover-fill-color);\n",
              "  }\n",
              "\n",
              "  .colab-df-quickchart-complete:disabled,\n",
              "  .colab-df-quickchart-complete:disabled:hover {\n",
              "    background-color: var(--disabled-bg-color);\n",
              "    fill: var(--disabled-fill-color);\n",
              "    box-shadow: none;\n",
              "  }\n",
              "\n",
              "  .colab-df-spinner {\n",
              "    border: 2px solid var(--fill-color);\n",
              "    border-color: transparent;\n",
              "    border-bottom-color: var(--fill-color);\n",
              "    animation:\n",
              "      spin 1s steps(1) infinite;\n",
              "  }\n",
              "\n",
              "  @keyframes spin {\n",
              "    0% {\n",
              "      border-color: transparent;\n",
              "      border-bottom-color: var(--fill-color);\n",
              "      border-left-color: var(--fill-color);\n",
              "    }\n",
              "    20% {\n",
              "      border-color: transparent;\n",
              "      border-left-color: var(--fill-color);\n",
              "      border-top-color: var(--fill-color);\n",
              "    }\n",
              "    30% {\n",
              "      border-color: transparent;\n",
              "      border-left-color: var(--fill-color);\n",
              "      border-top-color: var(--fill-color);\n",
              "      border-right-color: var(--fill-color);\n",
              "    }\n",
              "    40% {\n",
              "      border-color: transparent;\n",
              "      border-right-color: var(--fill-color);\n",
              "      border-top-color: var(--fill-color);\n",
              "    }\n",
              "    60% {\n",
              "      border-color: transparent;\n",
              "      border-right-color: var(--fill-color);\n",
              "    }\n",
              "    80% {\n",
              "      border-color: transparent;\n",
              "      border-right-color: var(--fill-color);\n",
              "      border-bottom-color: var(--fill-color);\n",
              "    }\n",
              "    90% {\n",
              "      border-color: transparent;\n",
              "      border-bottom-color: var(--fill-color);\n",
              "    }\n",
              "  }\n",
              "</style>\n",
              "\n",
              "  <script>\n",
              "    async function quickchart(key) {\n",
              "      const quickchartButtonEl =\n",
              "        document.querySelector('#' + key + ' button');\n",
              "      quickchartButtonEl.disabled = true;  // To prevent multiple clicks.\n",
              "      quickchartButtonEl.classList.add('colab-df-spinner');\n",
              "      try {\n",
              "        const charts = await google.colab.kernel.invokeFunction(\n",
              "            'suggestCharts', [key], {});\n",
              "      } catch (error) {\n",
              "        console.error('Error during call to suggestCharts:', error);\n",
              "      }\n",
              "      quickchartButtonEl.classList.remove('colab-df-spinner');\n",
              "      quickchartButtonEl.classList.add('colab-df-quickchart-complete');\n",
              "    }\n",
              "    (() => {\n",
              "      let quickchartButtonEl =\n",
              "        document.querySelector('#df-9811cbf0-5a5d-4df7-ab5d-23e78fa09b17 button');\n",
              "      quickchartButtonEl.style.display =\n",
              "        google.colab.kernel.accessAllowed ? 'block' : 'none';\n",
              "    })();\n",
              "  </script>\n",
              "</div>\n",
              "    </div>\n",
              "  </div>\n"
            ]
          },
          "metadata": {},
          "execution_count": 3
        }
      ]
    },
    {
      "cell_type": "code",
      "source": [
        "df.shape"
      ],
      "metadata": {
        "colab": {
          "base_uri": "https://localhost:8080/"
        },
        "id": "eiOyfVH_5Oom",
        "outputId": "d5294e19-6126-4a29-93aa-09fb2127c266"
      },
      "execution_count": null,
      "outputs": [
        {
          "output_type": "execute_result",
          "data": {
            "text/plain": [
              "(32561, 15)"
            ]
          },
          "metadata": {},
          "execution_count": 4
        }
      ]
    },
    {
      "cell_type": "code",
      "source": [
        "df.info()"
      ],
      "metadata": {
        "colab": {
          "base_uri": "https://localhost:8080/"
        },
        "id": "apQghtDl5Ysp",
        "outputId": "b1471a8c-3eff-4bbb-85df-0997986f6744"
      },
      "execution_count": null,
      "outputs": [
        {
          "output_type": "stream",
          "name": "stdout",
          "text": [
            "<class 'pandas.core.frame.DataFrame'>\n",
            "RangeIndex: 32561 entries, 0 to 32560\n",
            "Data columns (total 15 columns):\n",
            " #   Column          Non-Null Count  Dtype \n",
            "---  ------          --------------  ----- \n",
            " 0   age             32561 non-null  int64 \n",
            " 1   workclass       32561 non-null  object\n",
            " 2   fnlwgt          32561 non-null  int64 \n",
            " 3   education       32561 non-null  object\n",
            " 4   education.num   32561 non-null  int64 \n",
            " 5   marital.status  32561 non-null  object\n",
            " 6   occupation      32561 non-null  object\n",
            " 7   relationship    32561 non-null  object\n",
            " 8   race            32561 non-null  object\n",
            " 9   sex             32561 non-null  object\n",
            " 10  capital.gain    32561 non-null  int64 \n",
            " 11  capital.loss    32561 non-null  int64 \n",
            " 12  hours.per.week  32561 non-null  int64 \n",
            " 13  native.country  32561 non-null  object\n",
            " 14  income          32561 non-null  object\n",
            "dtypes: int64(6), object(9)\n",
            "memory usage: 3.7+ MB\n"
          ]
        }
      ]
    },
    {
      "cell_type": "markdown",
      "source": [
        "###Data Pre-processing"
      ],
      "metadata": {
        "id": "N6RqlZ8fiS4F"
      }
    },
    {
      "cell_type": "markdown",
      "source": [
        "####Map income to numerical values"
      ],
      "metadata": {
        "id": "WEQ94_JINt8_"
      }
    },
    {
      "cell_type": "code",
      "source": [
        "income_map = {'<=50K': 1, '>50K': 0}\n",
        "df['income'] = df['income'].map(income_map)"
      ],
      "metadata": {
        "id": "Clt-2HY3NtOz"
      },
      "execution_count": null,
      "outputs": []
    },
    {
      "cell_type": "code",
      "source": [
        "#Converting it into int value\n",
        "df['income'] = df['income'].astype('int')"
      ],
      "metadata": {
        "id": "6ZSIGLt1N4SI"
      },
      "execution_count": null,
      "outputs": []
    },
    {
      "cell_type": "markdown",
      "source": [
        "####Drop duplicates"
      ],
      "metadata": {
        "id": "xki2ULaJmldZ"
      }
    },
    {
      "cell_type": "code",
      "source": [
        "duplicated_rows = df.duplicated()\n",
        "any_duplicates = duplicated_rows.any()\n",
        "\n",
        "print(\"Duplicated Rows:\")\n",
        "df[duplicated_rows]"
      ],
      "metadata": {
        "colab": {
          "base_uri": "https://localhost:8080/"
        },
        "id": "AeJC3KYlmrGA",
        "outputId": "d44001b0-3ff1-412a-b09e-f6276396905a"
      },
      "execution_count": null,
      "outputs": [
        {
          "output_type": "stream",
          "name": "stdout",
          "text": [
            "Duplicated Rows:\n"
          ]
        },
        {
          "output_type": "execute_result",
          "data": {
            "text/plain": [
              "       age         workclass  fnlwgt     education  education.num  \\\n",
              "8453    25           Private  308144     Bachelors             13   \n",
              "8645    90           Private   52386  Some-college             10   \n",
              "12202   21           Private  250051  Some-college             10   \n",
              "14346   20           Private  107658  Some-college             10   \n",
              "15603   25           Private  195994       1st-4th              2   \n",
              "17344   21           Private  243368     Preschool              1   \n",
              "19067   46           Private  173243       HS-grad              9   \n",
              "20388   30           Private  144593       HS-grad              9   \n",
              "20507   19           Private   97261       HS-grad              9   \n",
              "22783   19           Private  138153  Some-college             10   \n",
              "22934   19           Private  146679  Some-college             10   \n",
              "23276   49           Private   31267       7th-8th              4   \n",
              "23660   25           Private  195994       1st-4th              2   \n",
              "23720   44           Private  367749     Bachelors             13   \n",
              "23827   49  Self-emp-not-inc   43479  Some-college             10   \n",
              "26738   23           Private  240137       5th-6th              3   \n",
              "27133   28           Private  274679       Masters             14   \n",
              "28796   27           Private  255582       HS-grad              9   \n",
              "29051   42           Private  204235  Some-college             10   \n",
              "29334   39           Private   30916       HS-grad              9   \n",
              "29604   38           Private  207202       HS-grad              9   \n",
              "31060   46           Private  133616  Some-college             10   \n",
              "32065   19           Private  251579  Some-college             10   \n",
              "32419   35           Private  379959       HS-grad              9   \n",
              "\n",
              "           marital.status         occupation   relationship  \\\n",
              "8453        Never-married       Craft-repair  Not-in-family   \n",
              "8645        Never-married      Other-service  Not-in-family   \n",
              "12202       Never-married     Prof-specialty      Own-child   \n",
              "14346       Never-married       Tech-support  Not-in-family   \n",
              "15603       Never-married    Priv-house-serv  Not-in-family   \n",
              "17344       Never-married    Farming-fishing  Not-in-family   \n",
              "19067  Married-civ-spouse       Craft-repair        Husband   \n",
              "20388       Never-married      Other-service  Not-in-family   \n",
              "20507       Never-married    Farming-fishing  Not-in-family   \n",
              "22783       Never-married       Adm-clerical      Own-child   \n",
              "22934       Never-married    Exec-managerial      Own-child   \n",
              "23276  Married-civ-spouse       Craft-repair        Husband   \n",
              "23660       Never-married    Priv-house-serv  Not-in-family   \n",
              "23720       Never-married     Prof-specialty  Not-in-family   \n",
              "23827  Married-civ-spouse       Craft-repair        Husband   \n",
              "26738       Never-married  Handlers-cleaners  Not-in-family   \n",
              "27133       Never-married     Prof-specialty  Not-in-family   \n",
              "28796       Never-married  Machine-op-inspct  Not-in-family   \n",
              "29051  Married-civ-spouse     Prof-specialty        Husband   \n",
              "29334  Married-civ-spouse       Craft-repair        Husband   \n",
              "29604  Married-civ-spouse  Machine-op-inspct        Husband   \n",
              "31060            Divorced       Adm-clerical      Unmarried   \n",
              "32065       Never-married      Other-service      Own-child   \n",
              "32419            Divorced      Other-service  Not-in-family   \n",
              "\n",
              "                     race     sex  capital.gain  capital.loss  hours.per.week  \\\n",
              "8453                White    Male             0             0              40   \n",
              "8645   Asian-Pac-Islander    Male             0             0              35   \n",
              "12202               White  Female             0             0              10   \n",
              "14346               White  Female             0             0              10   \n",
              "15603               White  Female             0             0              40   \n",
              "17344               White    Male             0             0              50   \n",
              "19067               White    Male             0             0              40   \n",
              "20388               Black    Male             0             0              40   \n",
              "20507               White    Male             0             0              40   \n",
              "22783               White  Female             0             0              10   \n",
              "22934               Black    Male             0             0              30   \n",
              "23276               White    Male             0             0              40   \n",
              "23660               White  Female             0             0              40   \n",
              "23720               White  Female             0             0              45   \n",
              "23827               White    Male             0             0              40   \n",
              "26738               White    Male             0             0              55   \n",
              "27133               White    Male             0             0              50   \n",
              "28796               White  Female             0             0              40   \n",
              "29051               White    Male             0             0              40   \n",
              "29334               White    Male             0             0              40   \n",
              "29604               White    Male             0             0              48   \n",
              "31060               White  Female             0             0              40   \n",
              "32065               White    Male             0             0              14   \n",
              "32419               White  Female             0             0              40   \n",
              "\n",
              "      native.country  income  \n",
              "8453          Mexico       1  \n",
              "8645   United-States       1  \n",
              "12202  United-States       1  \n",
              "14346  United-States       1  \n",
              "15603      Guatemala       1  \n",
              "17344         Mexico       1  \n",
              "19067  United-States       1  \n",
              "20388              ?       1  \n",
              "20507  United-States       1  \n",
              "22783  United-States       1  \n",
              "22934  United-States       1  \n",
              "23276  United-States       1  \n",
              "23660      Guatemala       1  \n",
              "23720         Mexico       1  \n",
              "23827  United-States       1  \n",
              "26738         Mexico       1  \n",
              "27133  United-States       1  \n",
              "28796  United-States       1  \n",
              "29051  United-States       0  \n",
              "29334  United-States       1  \n",
              "29604  United-States       0  \n",
              "31060  United-States       1  \n",
              "32065  United-States       1  \n",
              "32419  United-States       1  "
            ],
            "text/html": [
              "\n",
              "  <div id=\"df-1f6695c1-a9cd-4367-9f13-4b930e8bf1a4\" class=\"colab-df-container\">\n",
              "    <div>\n",
              "<style scoped>\n",
              "    .dataframe tbody tr th:only-of-type {\n",
              "        vertical-align: middle;\n",
              "    }\n",
              "\n",
              "    .dataframe tbody tr th {\n",
              "        vertical-align: top;\n",
              "    }\n",
              "\n",
              "    .dataframe thead th {\n",
              "        text-align: right;\n",
              "    }\n",
              "</style>\n",
              "<table border=\"1\" class=\"dataframe\">\n",
              "  <thead>\n",
              "    <tr style=\"text-align: right;\">\n",
              "      <th></th>\n",
              "      <th>age</th>\n",
              "      <th>workclass</th>\n",
              "      <th>fnlwgt</th>\n",
              "      <th>education</th>\n",
              "      <th>education.num</th>\n",
              "      <th>marital.status</th>\n",
              "      <th>occupation</th>\n",
              "      <th>relationship</th>\n",
              "      <th>race</th>\n",
              "      <th>sex</th>\n",
              "      <th>capital.gain</th>\n",
              "      <th>capital.loss</th>\n",
              "      <th>hours.per.week</th>\n",
              "      <th>native.country</th>\n",
              "      <th>income</th>\n",
              "    </tr>\n",
              "  </thead>\n",
              "  <tbody>\n",
              "    <tr>\n",
              "      <th>8453</th>\n",
              "      <td>25</td>\n",
              "      <td>Private</td>\n",
              "      <td>308144</td>\n",
              "      <td>Bachelors</td>\n",
              "      <td>13</td>\n",
              "      <td>Never-married</td>\n",
              "      <td>Craft-repair</td>\n",
              "      <td>Not-in-family</td>\n",
              "      <td>White</td>\n",
              "      <td>Male</td>\n",
              "      <td>0</td>\n",
              "      <td>0</td>\n",
              "      <td>40</td>\n",
              "      <td>Mexico</td>\n",
              "      <td>1</td>\n",
              "    </tr>\n",
              "    <tr>\n",
              "      <th>8645</th>\n",
              "      <td>90</td>\n",
              "      <td>Private</td>\n",
              "      <td>52386</td>\n",
              "      <td>Some-college</td>\n",
              "      <td>10</td>\n",
              "      <td>Never-married</td>\n",
              "      <td>Other-service</td>\n",
              "      <td>Not-in-family</td>\n",
              "      <td>Asian-Pac-Islander</td>\n",
              "      <td>Male</td>\n",
              "      <td>0</td>\n",
              "      <td>0</td>\n",
              "      <td>35</td>\n",
              "      <td>United-States</td>\n",
              "      <td>1</td>\n",
              "    </tr>\n",
              "    <tr>\n",
              "      <th>12202</th>\n",
              "      <td>21</td>\n",
              "      <td>Private</td>\n",
              "      <td>250051</td>\n",
              "      <td>Some-college</td>\n",
              "      <td>10</td>\n",
              "      <td>Never-married</td>\n",
              "      <td>Prof-specialty</td>\n",
              "      <td>Own-child</td>\n",
              "      <td>White</td>\n",
              "      <td>Female</td>\n",
              "      <td>0</td>\n",
              "      <td>0</td>\n",
              "      <td>10</td>\n",
              "      <td>United-States</td>\n",
              "      <td>1</td>\n",
              "    </tr>\n",
              "    <tr>\n",
              "      <th>14346</th>\n",
              "      <td>20</td>\n",
              "      <td>Private</td>\n",
              "      <td>107658</td>\n",
              "      <td>Some-college</td>\n",
              "      <td>10</td>\n",
              "      <td>Never-married</td>\n",
              "      <td>Tech-support</td>\n",
              "      <td>Not-in-family</td>\n",
              "      <td>White</td>\n",
              "      <td>Female</td>\n",
              "      <td>0</td>\n",
              "      <td>0</td>\n",
              "      <td>10</td>\n",
              "      <td>United-States</td>\n",
              "      <td>1</td>\n",
              "    </tr>\n",
              "    <tr>\n",
              "      <th>15603</th>\n",
              "      <td>25</td>\n",
              "      <td>Private</td>\n",
              "      <td>195994</td>\n",
              "      <td>1st-4th</td>\n",
              "      <td>2</td>\n",
              "      <td>Never-married</td>\n",
              "      <td>Priv-house-serv</td>\n",
              "      <td>Not-in-family</td>\n",
              "      <td>White</td>\n",
              "      <td>Female</td>\n",
              "      <td>0</td>\n",
              "      <td>0</td>\n",
              "      <td>40</td>\n",
              "      <td>Guatemala</td>\n",
              "      <td>1</td>\n",
              "    </tr>\n",
              "    <tr>\n",
              "      <th>17344</th>\n",
              "      <td>21</td>\n",
              "      <td>Private</td>\n",
              "      <td>243368</td>\n",
              "      <td>Preschool</td>\n",
              "      <td>1</td>\n",
              "      <td>Never-married</td>\n",
              "      <td>Farming-fishing</td>\n",
              "      <td>Not-in-family</td>\n",
              "      <td>White</td>\n",
              "      <td>Male</td>\n",
              "      <td>0</td>\n",
              "      <td>0</td>\n",
              "      <td>50</td>\n",
              "      <td>Mexico</td>\n",
              "      <td>1</td>\n",
              "    </tr>\n",
              "    <tr>\n",
              "      <th>19067</th>\n",
              "      <td>46</td>\n",
              "      <td>Private</td>\n",
              "      <td>173243</td>\n",
              "      <td>HS-grad</td>\n",
              "      <td>9</td>\n",
              "      <td>Married-civ-spouse</td>\n",
              "      <td>Craft-repair</td>\n",
              "      <td>Husband</td>\n",
              "      <td>White</td>\n",
              "      <td>Male</td>\n",
              "      <td>0</td>\n",
              "      <td>0</td>\n",
              "      <td>40</td>\n",
              "      <td>United-States</td>\n",
              "      <td>1</td>\n",
              "    </tr>\n",
              "    <tr>\n",
              "      <th>20388</th>\n",
              "      <td>30</td>\n",
              "      <td>Private</td>\n",
              "      <td>144593</td>\n",
              "      <td>HS-grad</td>\n",
              "      <td>9</td>\n",
              "      <td>Never-married</td>\n",
              "      <td>Other-service</td>\n",
              "      <td>Not-in-family</td>\n",
              "      <td>Black</td>\n",
              "      <td>Male</td>\n",
              "      <td>0</td>\n",
              "      <td>0</td>\n",
              "      <td>40</td>\n",
              "      <td>?</td>\n",
              "      <td>1</td>\n",
              "    </tr>\n",
              "    <tr>\n",
              "      <th>20507</th>\n",
              "      <td>19</td>\n",
              "      <td>Private</td>\n",
              "      <td>97261</td>\n",
              "      <td>HS-grad</td>\n",
              "      <td>9</td>\n",
              "      <td>Never-married</td>\n",
              "      <td>Farming-fishing</td>\n",
              "      <td>Not-in-family</td>\n",
              "      <td>White</td>\n",
              "      <td>Male</td>\n",
              "      <td>0</td>\n",
              "      <td>0</td>\n",
              "      <td>40</td>\n",
              "      <td>United-States</td>\n",
              "      <td>1</td>\n",
              "    </tr>\n",
              "    <tr>\n",
              "      <th>22783</th>\n",
              "      <td>19</td>\n",
              "      <td>Private</td>\n",
              "      <td>138153</td>\n",
              "      <td>Some-college</td>\n",
              "      <td>10</td>\n",
              "      <td>Never-married</td>\n",
              "      <td>Adm-clerical</td>\n",
              "      <td>Own-child</td>\n",
              "      <td>White</td>\n",
              "      <td>Female</td>\n",
              "      <td>0</td>\n",
              "      <td>0</td>\n",
              "      <td>10</td>\n",
              "      <td>United-States</td>\n",
              "      <td>1</td>\n",
              "    </tr>\n",
              "    <tr>\n",
              "      <th>22934</th>\n",
              "      <td>19</td>\n",
              "      <td>Private</td>\n",
              "      <td>146679</td>\n",
              "      <td>Some-college</td>\n",
              "      <td>10</td>\n",
              "      <td>Never-married</td>\n",
              "      <td>Exec-managerial</td>\n",
              "      <td>Own-child</td>\n",
              "      <td>Black</td>\n",
              "      <td>Male</td>\n",
              "      <td>0</td>\n",
              "      <td>0</td>\n",
              "      <td>30</td>\n",
              "      <td>United-States</td>\n",
              "      <td>1</td>\n",
              "    </tr>\n",
              "    <tr>\n",
              "      <th>23276</th>\n",
              "      <td>49</td>\n",
              "      <td>Private</td>\n",
              "      <td>31267</td>\n",
              "      <td>7th-8th</td>\n",
              "      <td>4</td>\n",
              "      <td>Married-civ-spouse</td>\n",
              "      <td>Craft-repair</td>\n",
              "      <td>Husband</td>\n",
              "      <td>White</td>\n",
              "      <td>Male</td>\n",
              "      <td>0</td>\n",
              "      <td>0</td>\n",
              "      <td>40</td>\n",
              "      <td>United-States</td>\n",
              "      <td>1</td>\n",
              "    </tr>\n",
              "    <tr>\n",
              "      <th>23660</th>\n",
              "      <td>25</td>\n",
              "      <td>Private</td>\n",
              "      <td>195994</td>\n",
              "      <td>1st-4th</td>\n",
              "      <td>2</td>\n",
              "      <td>Never-married</td>\n",
              "      <td>Priv-house-serv</td>\n",
              "      <td>Not-in-family</td>\n",
              "      <td>White</td>\n",
              "      <td>Female</td>\n",
              "      <td>0</td>\n",
              "      <td>0</td>\n",
              "      <td>40</td>\n",
              "      <td>Guatemala</td>\n",
              "      <td>1</td>\n",
              "    </tr>\n",
              "    <tr>\n",
              "      <th>23720</th>\n",
              "      <td>44</td>\n",
              "      <td>Private</td>\n",
              "      <td>367749</td>\n",
              "      <td>Bachelors</td>\n",
              "      <td>13</td>\n",
              "      <td>Never-married</td>\n",
              "      <td>Prof-specialty</td>\n",
              "      <td>Not-in-family</td>\n",
              "      <td>White</td>\n",
              "      <td>Female</td>\n",
              "      <td>0</td>\n",
              "      <td>0</td>\n",
              "      <td>45</td>\n",
              "      <td>Mexico</td>\n",
              "      <td>1</td>\n",
              "    </tr>\n",
              "    <tr>\n",
              "      <th>23827</th>\n",
              "      <td>49</td>\n",
              "      <td>Self-emp-not-inc</td>\n",
              "      <td>43479</td>\n",
              "      <td>Some-college</td>\n",
              "      <td>10</td>\n",
              "      <td>Married-civ-spouse</td>\n",
              "      <td>Craft-repair</td>\n",
              "      <td>Husband</td>\n",
              "      <td>White</td>\n",
              "      <td>Male</td>\n",
              "      <td>0</td>\n",
              "      <td>0</td>\n",
              "      <td>40</td>\n",
              "      <td>United-States</td>\n",
              "      <td>1</td>\n",
              "    </tr>\n",
              "    <tr>\n",
              "      <th>26738</th>\n",
              "      <td>23</td>\n",
              "      <td>Private</td>\n",
              "      <td>240137</td>\n",
              "      <td>5th-6th</td>\n",
              "      <td>3</td>\n",
              "      <td>Never-married</td>\n",
              "      <td>Handlers-cleaners</td>\n",
              "      <td>Not-in-family</td>\n",
              "      <td>White</td>\n",
              "      <td>Male</td>\n",
              "      <td>0</td>\n",
              "      <td>0</td>\n",
              "      <td>55</td>\n",
              "      <td>Mexico</td>\n",
              "      <td>1</td>\n",
              "    </tr>\n",
              "    <tr>\n",
              "      <th>27133</th>\n",
              "      <td>28</td>\n",
              "      <td>Private</td>\n",
              "      <td>274679</td>\n",
              "      <td>Masters</td>\n",
              "      <td>14</td>\n",
              "      <td>Never-married</td>\n",
              "      <td>Prof-specialty</td>\n",
              "      <td>Not-in-family</td>\n",
              "      <td>White</td>\n",
              "      <td>Male</td>\n",
              "      <td>0</td>\n",
              "      <td>0</td>\n",
              "      <td>50</td>\n",
              "      <td>United-States</td>\n",
              "      <td>1</td>\n",
              "    </tr>\n",
              "    <tr>\n",
              "      <th>28796</th>\n",
              "      <td>27</td>\n",
              "      <td>Private</td>\n",
              "      <td>255582</td>\n",
              "      <td>HS-grad</td>\n",
              "      <td>9</td>\n",
              "      <td>Never-married</td>\n",
              "      <td>Machine-op-inspct</td>\n",
              "      <td>Not-in-family</td>\n",
              "      <td>White</td>\n",
              "      <td>Female</td>\n",
              "      <td>0</td>\n",
              "      <td>0</td>\n",
              "      <td>40</td>\n",
              "      <td>United-States</td>\n",
              "      <td>1</td>\n",
              "    </tr>\n",
              "    <tr>\n",
              "      <th>29051</th>\n",
              "      <td>42</td>\n",
              "      <td>Private</td>\n",
              "      <td>204235</td>\n",
              "      <td>Some-college</td>\n",
              "      <td>10</td>\n",
              "      <td>Married-civ-spouse</td>\n",
              "      <td>Prof-specialty</td>\n",
              "      <td>Husband</td>\n",
              "      <td>White</td>\n",
              "      <td>Male</td>\n",
              "      <td>0</td>\n",
              "      <td>0</td>\n",
              "      <td>40</td>\n",
              "      <td>United-States</td>\n",
              "      <td>0</td>\n",
              "    </tr>\n",
              "    <tr>\n",
              "      <th>29334</th>\n",
              "      <td>39</td>\n",
              "      <td>Private</td>\n",
              "      <td>30916</td>\n",
              "      <td>HS-grad</td>\n",
              "      <td>9</td>\n",
              "      <td>Married-civ-spouse</td>\n",
              "      <td>Craft-repair</td>\n",
              "      <td>Husband</td>\n",
              "      <td>White</td>\n",
              "      <td>Male</td>\n",
              "      <td>0</td>\n",
              "      <td>0</td>\n",
              "      <td>40</td>\n",
              "      <td>United-States</td>\n",
              "      <td>1</td>\n",
              "    </tr>\n",
              "    <tr>\n",
              "      <th>29604</th>\n",
              "      <td>38</td>\n",
              "      <td>Private</td>\n",
              "      <td>207202</td>\n",
              "      <td>HS-grad</td>\n",
              "      <td>9</td>\n",
              "      <td>Married-civ-spouse</td>\n",
              "      <td>Machine-op-inspct</td>\n",
              "      <td>Husband</td>\n",
              "      <td>White</td>\n",
              "      <td>Male</td>\n",
              "      <td>0</td>\n",
              "      <td>0</td>\n",
              "      <td>48</td>\n",
              "      <td>United-States</td>\n",
              "      <td>0</td>\n",
              "    </tr>\n",
              "    <tr>\n",
              "      <th>31060</th>\n",
              "      <td>46</td>\n",
              "      <td>Private</td>\n",
              "      <td>133616</td>\n",
              "      <td>Some-college</td>\n",
              "      <td>10</td>\n",
              "      <td>Divorced</td>\n",
              "      <td>Adm-clerical</td>\n",
              "      <td>Unmarried</td>\n",
              "      <td>White</td>\n",
              "      <td>Female</td>\n",
              "      <td>0</td>\n",
              "      <td>0</td>\n",
              "      <td>40</td>\n",
              "      <td>United-States</td>\n",
              "      <td>1</td>\n",
              "    </tr>\n",
              "    <tr>\n",
              "      <th>32065</th>\n",
              "      <td>19</td>\n",
              "      <td>Private</td>\n",
              "      <td>251579</td>\n",
              "      <td>Some-college</td>\n",
              "      <td>10</td>\n",
              "      <td>Never-married</td>\n",
              "      <td>Other-service</td>\n",
              "      <td>Own-child</td>\n",
              "      <td>White</td>\n",
              "      <td>Male</td>\n",
              "      <td>0</td>\n",
              "      <td>0</td>\n",
              "      <td>14</td>\n",
              "      <td>United-States</td>\n",
              "      <td>1</td>\n",
              "    </tr>\n",
              "    <tr>\n",
              "      <th>32419</th>\n",
              "      <td>35</td>\n",
              "      <td>Private</td>\n",
              "      <td>379959</td>\n",
              "      <td>HS-grad</td>\n",
              "      <td>9</td>\n",
              "      <td>Divorced</td>\n",
              "      <td>Other-service</td>\n",
              "      <td>Not-in-family</td>\n",
              "      <td>White</td>\n",
              "      <td>Female</td>\n",
              "      <td>0</td>\n",
              "      <td>0</td>\n",
              "      <td>40</td>\n",
              "      <td>United-States</td>\n",
              "      <td>1</td>\n",
              "    </tr>\n",
              "  </tbody>\n",
              "</table>\n",
              "</div>\n",
              "    <div class=\"colab-df-buttons\">\n",
              "\n",
              "  <div class=\"colab-df-container\">\n",
              "    <button class=\"colab-df-convert\" onclick=\"convertToInteractive('df-1f6695c1-a9cd-4367-9f13-4b930e8bf1a4')\"\n",
              "            title=\"Convert this dataframe to an interactive table.\"\n",
              "            style=\"display:none;\">\n",
              "\n",
              "  <svg xmlns=\"http://www.w3.org/2000/svg\" height=\"24px\" viewBox=\"0 -960 960 960\">\n",
              "    <path d=\"M120-120v-720h720v720H120Zm60-500h600v-160H180v160Zm220 220h160v-160H400v160Zm0 220h160v-160H400v160ZM180-400h160v-160H180v160Zm440 0h160v-160H620v160ZM180-180h160v-160H180v160Zm440 0h160v-160H620v160Z\"/>\n",
              "  </svg>\n",
              "    </button>\n",
              "\n",
              "  <style>\n",
              "    .colab-df-container {\n",
              "      display:flex;\n",
              "      gap: 12px;\n",
              "    }\n",
              "\n",
              "    .colab-df-convert {\n",
              "      background-color: #E8F0FE;\n",
              "      border: none;\n",
              "      border-radius: 50%;\n",
              "      cursor: pointer;\n",
              "      display: none;\n",
              "      fill: #1967D2;\n",
              "      height: 32px;\n",
              "      padding: 0 0 0 0;\n",
              "      width: 32px;\n",
              "    }\n",
              "\n",
              "    .colab-df-convert:hover {\n",
              "      background-color: #E2EBFA;\n",
              "      box-shadow: 0px 1px 2px rgba(60, 64, 67, 0.3), 0px 1px 3px 1px rgba(60, 64, 67, 0.15);\n",
              "      fill: #174EA6;\n",
              "    }\n",
              "\n",
              "    .colab-df-buttons div {\n",
              "      margin-bottom: 4px;\n",
              "    }\n",
              "\n",
              "    [theme=dark] .colab-df-convert {\n",
              "      background-color: #3B4455;\n",
              "      fill: #D2E3FC;\n",
              "    }\n",
              "\n",
              "    [theme=dark] .colab-df-convert:hover {\n",
              "      background-color: #434B5C;\n",
              "      box-shadow: 0px 1px 3px 1px rgba(0, 0, 0, 0.15);\n",
              "      filter: drop-shadow(0px 1px 2px rgba(0, 0, 0, 0.3));\n",
              "      fill: #FFFFFF;\n",
              "    }\n",
              "  </style>\n",
              "\n",
              "    <script>\n",
              "      const buttonEl =\n",
              "        document.querySelector('#df-1f6695c1-a9cd-4367-9f13-4b930e8bf1a4 button.colab-df-convert');\n",
              "      buttonEl.style.display =\n",
              "        google.colab.kernel.accessAllowed ? 'block' : 'none';\n",
              "\n",
              "      async function convertToInteractive(key) {\n",
              "        const element = document.querySelector('#df-1f6695c1-a9cd-4367-9f13-4b930e8bf1a4');\n",
              "        const dataTable =\n",
              "          await google.colab.kernel.invokeFunction('convertToInteractive',\n",
              "                                                    [key], {});\n",
              "        if (!dataTable) return;\n",
              "\n",
              "        const docLinkHtml = 'Like what you see? Visit the ' +\n",
              "          '<a target=\"_blank\" href=https://colab.research.google.com/notebooks/data_table.ipynb>data table notebook</a>'\n",
              "          + ' to learn more about interactive tables.';\n",
              "        element.innerHTML = '';\n",
              "        dataTable['output_type'] = 'display_data';\n",
              "        await google.colab.output.renderOutput(dataTable, element);\n",
              "        const docLink = document.createElement('div');\n",
              "        docLink.innerHTML = docLinkHtml;\n",
              "        element.appendChild(docLink);\n",
              "      }\n",
              "    </script>\n",
              "  </div>\n",
              "\n",
              "\n",
              "<div id=\"df-34df5ad8-fa28-4157-80e0-64339d77e7e8\">\n",
              "  <button class=\"colab-df-quickchart\" onclick=\"quickchart('df-34df5ad8-fa28-4157-80e0-64339d77e7e8')\"\n",
              "            title=\"Suggest charts.\"\n",
              "            style=\"display:none;\">\n",
              "\n",
              "<svg xmlns=\"http://www.w3.org/2000/svg\" height=\"24px\"viewBox=\"0 0 24 24\"\n",
              "     width=\"24px\">\n",
              "    <g>\n",
              "        <path d=\"M19 3H5c-1.1 0-2 .9-2 2v14c0 1.1.9 2 2 2h14c1.1 0 2-.9 2-2V5c0-1.1-.9-2-2-2zM9 17H7v-7h2v7zm4 0h-2V7h2v10zm4 0h-2v-4h2v4z\"/>\n",
              "    </g>\n",
              "</svg>\n",
              "  </button>\n",
              "\n",
              "<style>\n",
              "  .colab-df-quickchart {\n",
              "      --bg-color: #E8F0FE;\n",
              "      --fill-color: #1967D2;\n",
              "      --hover-bg-color: #E2EBFA;\n",
              "      --hover-fill-color: #174EA6;\n",
              "      --disabled-fill-color: #AAA;\n",
              "      --disabled-bg-color: #DDD;\n",
              "  }\n",
              "\n",
              "  [theme=dark] .colab-df-quickchart {\n",
              "      --bg-color: #3B4455;\n",
              "      --fill-color: #D2E3FC;\n",
              "      --hover-bg-color: #434B5C;\n",
              "      --hover-fill-color: #FFFFFF;\n",
              "      --disabled-bg-color: #3B4455;\n",
              "      --disabled-fill-color: #666;\n",
              "  }\n",
              "\n",
              "  .colab-df-quickchart {\n",
              "    background-color: var(--bg-color);\n",
              "    border: none;\n",
              "    border-radius: 50%;\n",
              "    cursor: pointer;\n",
              "    display: none;\n",
              "    fill: var(--fill-color);\n",
              "    height: 32px;\n",
              "    padding: 0;\n",
              "    width: 32px;\n",
              "  }\n",
              "\n",
              "  .colab-df-quickchart:hover {\n",
              "    background-color: var(--hover-bg-color);\n",
              "    box-shadow: 0 1px 2px rgba(60, 64, 67, 0.3), 0 1px 3px 1px rgba(60, 64, 67, 0.15);\n",
              "    fill: var(--button-hover-fill-color);\n",
              "  }\n",
              "\n",
              "  .colab-df-quickchart-complete:disabled,\n",
              "  .colab-df-quickchart-complete:disabled:hover {\n",
              "    background-color: var(--disabled-bg-color);\n",
              "    fill: var(--disabled-fill-color);\n",
              "    box-shadow: none;\n",
              "  }\n",
              "\n",
              "  .colab-df-spinner {\n",
              "    border: 2px solid var(--fill-color);\n",
              "    border-color: transparent;\n",
              "    border-bottom-color: var(--fill-color);\n",
              "    animation:\n",
              "      spin 1s steps(1) infinite;\n",
              "  }\n",
              "\n",
              "  @keyframes spin {\n",
              "    0% {\n",
              "      border-color: transparent;\n",
              "      border-bottom-color: var(--fill-color);\n",
              "      border-left-color: var(--fill-color);\n",
              "    }\n",
              "    20% {\n",
              "      border-color: transparent;\n",
              "      border-left-color: var(--fill-color);\n",
              "      border-top-color: var(--fill-color);\n",
              "    }\n",
              "    30% {\n",
              "      border-color: transparent;\n",
              "      border-left-color: var(--fill-color);\n",
              "      border-top-color: var(--fill-color);\n",
              "      border-right-color: var(--fill-color);\n",
              "    }\n",
              "    40% {\n",
              "      border-color: transparent;\n",
              "      border-right-color: var(--fill-color);\n",
              "      border-top-color: var(--fill-color);\n",
              "    }\n",
              "    60% {\n",
              "      border-color: transparent;\n",
              "      border-right-color: var(--fill-color);\n",
              "    }\n",
              "    80% {\n",
              "      border-color: transparent;\n",
              "      border-right-color: var(--fill-color);\n",
              "      border-bottom-color: var(--fill-color);\n",
              "    }\n",
              "    90% {\n",
              "      border-color: transparent;\n",
              "      border-bottom-color: var(--fill-color);\n",
              "    }\n",
              "  }\n",
              "</style>\n",
              "\n",
              "  <script>\n",
              "    async function quickchart(key) {\n",
              "      const quickchartButtonEl =\n",
              "        document.querySelector('#' + key + ' button');\n",
              "      quickchartButtonEl.disabled = true;  // To prevent multiple clicks.\n",
              "      quickchartButtonEl.classList.add('colab-df-spinner');\n",
              "      try {\n",
              "        const charts = await google.colab.kernel.invokeFunction(\n",
              "            'suggestCharts', [key], {});\n",
              "      } catch (error) {\n",
              "        console.error('Error during call to suggestCharts:', error);\n",
              "      }\n",
              "      quickchartButtonEl.classList.remove('colab-df-spinner');\n",
              "      quickchartButtonEl.classList.add('colab-df-quickchart-complete');\n",
              "    }\n",
              "    (() => {\n",
              "      let quickchartButtonEl =\n",
              "        document.querySelector('#df-34df5ad8-fa28-4157-80e0-64339d77e7e8 button');\n",
              "      quickchartButtonEl.style.display =\n",
              "        google.colab.kernel.accessAllowed ? 'block' : 'none';\n",
              "    })();\n",
              "  </script>\n",
              "</div>\n",
              "    </div>\n",
              "  </div>\n"
            ]
          },
          "metadata": {},
          "execution_count": 8
        }
      ]
    },
    {
      "cell_type": "code",
      "source": [
        "df = df.drop_duplicates()"
      ],
      "metadata": {
        "id": "4kD3La5Umr5h"
      },
      "execution_count": null,
      "outputs": []
    },
    {
      "cell_type": "markdown",
      "source": [
        "####Dropping irrelevant columns"
      ],
      "metadata": {
        "id": "iS7SHPnUOacR"
      }
    },
    {
      "cell_type": "code",
      "source": [
        "#education.num has the same meaning of education but using number\n",
        "df = df.drop('fnlwgt',axis=1)"
      ],
      "metadata": {
        "id": "rTWum6gSOfTy"
      },
      "execution_count": null,
      "outputs": []
    },
    {
      "cell_type": "code",
      "source": [
        "#fnlwgt is not relevant for training the model\n",
        "df = df.drop('education.num',axis=1)"
      ],
      "metadata": {
        "id": "5Qqf4_HxO7UM"
      },
      "execution_count": null,
      "outputs": []
    },
    {
      "cell_type": "markdown",
      "source": [
        "####Data Analysis and Feature Engineering"
      ],
      "metadata": {
        "id": "kaK4hi2nNRTi"
      }
    },
    {
      "cell_type": "code",
      "source": [],
      "metadata": {
        "id": "CNCvGALyNV02"
      },
      "execution_count": null,
      "outputs": []
    },
    {
      "cell_type": "markdown",
      "source": [
        "####Replace ? with NaN"
      ],
      "metadata": {
        "id": "_cqIrsTFJLj0"
      }
    },
    {
      "cell_type": "code",
      "source": [
        "#replace ? with NaN\n",
        "df[df=='?'] = np.nan"
      ],
      "metadata": {
        "id": "FTSzAu615ls6"
      },
      "execution_count": null,
      "outputs": []
    },
    {
      "cell_type": "code",
      "source": [
        "df.head()"
      ],
      "metadata": {
        "colab": {
          "base_uri": "https://localhost:8080/"
        },
        "id": "CKAz96Cc6Atj",
        "outputId": "d37ef2fd-4d34-4ffc-ce95-94b37faeeb17"
      },
      "execution_count": null,
      "outputs": [
        {
          "output_type": "execute_result",
          "data": {
            "text/plain": [
              "   age workclass     education marital.status         occupation  \\\n",
              "0   90       NaN       HS-grad        Widowed                NaN   \n",
              "1   82   Private       HS-grad        Widowed    Exec-managerial   \n",
              "2   66       NaN  Some-college        Widowed                NaN   \n",
              "3   54   Private       7th-8th       Divorced  Machine-op-inspct   \n",
              "4   41   Private  Some-college      Separated     Prof-specialty   \n",
              "\n",
              "    relationship   race     sex  capital.gain  capital.loss  hours.per.week  \\\n",
              "0  Not-in-family  White  Female             0          4356              40   \n",
              "1  Not-in-family  White  Female             0          4356              18   \n",
              "2      Unmarried  Black  Female             0          4356              40   \n",
              "3      Unmarried  White  Female             0          3900              40   \n",
              "4      Own-child  White  Female             0          3900              40   \n",
              "\n",
              "  native.country  income  \n",
              "0  United-States       1  \n",
              "1  United-States       1  \n",
              "2  United-States       1  \n",
              "3  United-States       1  \n",
              "4  United-States       1  "
            ],
            "text/html": [
              "\n",
              "  <div id=\"df-d97b5ee4-4416-4b4d-810f-d1cdb8d450ac\" class=\"colab-df-container\">\n",
              "    <div>\n",
              "<style scoped>\n",
              "    .dataframe tbody tr th:only-of-type {\n",
              "        vertical-align: middle;\n",
              "    }\n",
              "\n",
              "    .dataframe tbody tr th {\n",
              "        vertical-align: top;\n",
              "    }\n",
              "\n",
              "    .dataframe thead th {\n",
              "        text-align: right;\n",
              "    }\n",
              "</style>\n",
              "<table border=\"1\" class=\"dataframe\">\n",
              "  <thead>\n",
              "    <tr style=\"text-align: right;\">\n",
              "      <th></th>\n",
              "      <th>age</th>\n",
              "      <th>workclass</th>\n",
              "      <th>education</th>\n",
              "      <th>marital.status</th>\n",
              "      <th>occupation</th>\n",
              "      <th>relationship</th>\n",
              "      <th>race</th>\n",
              "      <th>sex</th>\n",
              "      <th>capital.gain</th>\n",
              "      <th>capital.loss</th>\n",
              "      <th>hours.per.week</th>\n",
              "      <th>native.country</th>\n",
              "      <th>income</th>\n",
              "    </tr>\n",
              "  </thead>\n",
              "  <tbody>\n",
              "    <tr>\n",
              "      <th>0</th>\n",
              "      <td>90</td>\n",
              "      <td>NaN</td>\n",
              "      <td>HS-grad</td>\n",
              "      <td>Widowed</td>\n",
              "      <td>NaN</td>\n",
              "      <td>Not-in-family</td>\n",
              "      <td>White</td>\n",
              "      <td>Female</td>\n",
              "      <td>0</td>\n",
              "      <td>4356</td>\n",
              "      <td>40</td>\n",
              "      <td>United-States</td>\n",
              "      <td>1</td>\n",
              "    </tr>\n",
              "    <tr>\n",
              "      <th>1</th>\n",
              "      <td>82</td>\n",
              "      <td>Private</td>\n",
              "      <td>HS-grad</td>\n",
              "      <td>Widowed</td>\n",
              "      <td>Exec-managerial</td>\n",
              "      <td>Not-in-family</td>\n",
              "      <td>White</td>\n",
              "      <td>Female</td>\n",
              "      <td>0</td>\n",
              "      <td>4356</td>\n",
              "      <td>18</td>\n",
              "      <td>United-States</td>\n",
              "      <td>1</td>\n",
              "    </tr>\n",
              "    <tr>\n",
              "      <th>2</th>\n",
              "      <td>66</td>\n",
              "      <td>NaN</td>\n",
              "      <td>Some-college</td>\n",
              "      <td>Widowed</td>\n",
              "      <td>NaN</td>\n",
              "      <td>Unmarried</td>\n",
              "      <td>Black</td>\n",
              "      <td>Female</td>\n",
              "      <td>0</td>\n",
              "      <td>4356</td>\n",
              "      <td>40</td>\n",
              "      <td>United-States</td>\n",
              "      <td>1</td>\n",
              "    </tr>\n",
              "    <tr>\n",
              "      <th>3</th>\n",
              "      <td>54</td>\n",
              "      <td>Private</td>\n",
              "      <td>7th-8th</td>\n",
              "      <td>Divorced</td>\n",
              "      <td>Machine-op-inspct</td>\n",
              "      <td>Unmarried</td>\n",
              "      <td>White</td>\n",
              "      <td>Female</td>\n",
              "      <td>0</td>\n",
              "      <td>3900</td>\n",
              "      <td>40</td>\n",
              "      <td>United-States</td>\n",
              "      <td>1</td>\n",
              "    </tr>\n",
              "    <tr>\n",
              "      <th>4</th>\n",
              "      <td>41</td>\n",
              "      <td>Private</td>\n",
              "      <td>Some-college</td>\n",
              "      <td>Separated</td>\n",
              "      <td>Prof-specialty</td>\n",
              "      <td>Own-child</td>\n",
              "      <td>White</td>\n",
              "      <td>Female</td>\n",
              "      <td>0</td>\n",
              "      <td>3900</td>\n",
              "      <td>40</td>\n",
              "      <td>United-States</td>\n",
              "      <td>1</td>\n",
              "    </tr>\n",
              "  </tbody>\n",
              "</table>\n",
              "</div>\n",
              "    <div class=\"colab-df-buttons\">\n",
              "\n",
              "  <div class=\"colab-df-container\">\n",
              "    <button class=\"colab-df-convert\" onclick=\"convertToInteractive('df-d97b5ee4-4416-4b4d-810f-d1cdb8d450ac')\"\n",
              "            title=\"Convert this dataframe to an interactive table.\"\n",
              "            style=\"display:none;\">\n",
              "\n",
              "  <svg xmlns=\"http://www.w3.org/2000/svg\" height=\"24px\" viewBox=\"0 -960 960 960\">\n",
              "    <path d=\"M120-120v-720h720v720H120Zm60-500h600v-160H180v160Zm220 220h160v-160H400v160Zm0 220h160v-160H400v160ZM180-400h160v-160H180v160Zm440 0h160v-160H620v160ZM180-180h160v-160H180v160Zm440 0h160v-160H620v160Z\"/>\n",
              "  </svg>\n",
              "    </button>\n",
              "\n",
              "  <style>\n",
              "    .colab-df-container {\n",
              "      display:flex;\n",
              "      gap: 12px;\n",
              "    }\n",
              "\n",
              "    .colab-df-convert {\n",
              "      background-color: #E8F0FE;\n",
              "      border: none;\n",
              "      border-radius: 50%;\n",
              "      cursor: pointer;\n",
              "      display: none;\n",
              "      fill: #1967D2;\n",
              "      height: 32px;\n",
              "      padding: 0 0 0 0;\n",
              "      width: 32px;\n",
              "    }\n",
              "\n",
              "    .colab-df-convert:hover {\n",
              "      background-color: #E2EBFA;\n",
              "      box-shadow: 0px 1px 2px rgba(60, 64, 67, 0.3), 0px 1px 3px 1px rgba(60, 64, 67, 0.15);\n",
              "      fill: #174EA6;\n",
              "    }\n",
              "\n",
              "    .colab-df-buttons div {\n",
              "      margin-bottom: 4px;\n",
              "    }\n",
              "\n",
              "    [theme=dark] .colab-df-convert {\n",
              "      background-color: #3B4455;\n",
              "      fill: #D2E3FC;\n",
              "    }\n",
              "\n",
              "    [theme=dark] .colab-df-convert:hover {\n",
              "      background-color: #434B5C;\n",
              "      box-shadow: 0px 1px 3px 1px rgba(0, 0, 0, 0.15);\n",
              "      filter: drop-shadow(0px 1px 2px rgba(0, 0, 0, 0.3));\n",
              "      fill: #FFFFFF;\n",
              "    }\n",
              "  </style>\n",
              "\n",
              "    <script>\n",
              "      const buttonEl =\n",
              "        document.querySelector('#df-d97b5ee4-4416-4b4d-810f-d1cdb8d450ac button.colab-df-convert');\n",
              "      buttonEl.style.display =\n",
              "        google.colab.kernel.accessAllowed ? 'block' : 'none';\n",
              "\n",
              "      async function convertToInteractive(key) {\n",
              "        const element = document.querySelector('#df-d97b5ee4-4416-4b4d-810f-d1cdb8d450ac');\n",
              "        const dataTable =\n",
              "          await google.colab.kernel.invokeFunction('convertToInteractive',\n",
              "                                                    [key], {});\n",
              "        if (!dataTable) return;\n",
              "\n",
              "        const docLinkHtml = 'Like what you see? Visit the ' +\n",
              "          '<a target=\"_blank\" href=https://colab.research.google.com/notebooks/data_table.ipynb>data table notebook</a>'\n",
              "          + ' to learn more about interactive tables.';\n",
              "        element.innerHTML = '';\n",
              "        dataTable['output_type'] = 'display_data';\n",
              "        await google.colab.output.renderOutput(dataTable, element);\n",
              "        const docLink = document.createElement('div');\n",
              "        docLink.innerHTML = docLinkHtml;\n",
              "        element.appendChild(docLink);\n",
              "      }\n",
              "    </script>\n",
              "  </div>\n",
              "\n",
              "\n",
              "<div id=\"df-4d4763b0-8d4d-4ee7-8002-7f550d23942a\">\n",
              "  <button class=\"colab-df-quickchart\" onclick=\"quickchart('df-4d4763b0-8d4d-4ee7-8002-7f550d23942a')\"\n",
              "            title=\"Suggest charts.\"\n",
              "            style=\"display:none;\">\n",
              "\n",
              "<svg xmlns=\"http://www.w3.org/2000/svg\" height=\"24px\"viewBox=\"0 0 24 24\"\n",
              "     width=\"24px\">\n",
              "    <g>\n",
              "        <path d=\"M19 3H5c-1.1 0-2 .9-2 2v14c0 1.1.9 2 2 2h14c1.1 0 2-.9 2-2V5c0-1.1-.9-2-2-2zM9 17H7v-7h2v7zm4 0h-2V7h2v10zm4 0h-2v-4h2v4z\"/>\n",
              "    </g>\n",
              "</svg>\n",
              "  </button>\n",
              "\n",
              "<style>\n",
              "  .colab-df-quickchart {\n",
              "      --bg-color: #E8F0FE;\n",
              "      --fill-color: #1967D2;\n",
              "      --hover-bg-color: #E2EBFA;\n",
              "      --hover-fill-color: #174EA6;\n",
              "      --disabled-fill-color: #AAA;\n",
              "      --disabled-bg-color: #DDD;\n",
              "  }\n",
              "\n",
              "  [theme=dark] .colab-df-quickchart {\n",
              "      --bg-color: #3B4455;\n",
              "      --fill-color: #D2E3FC;\n",
              "      --hover-bg-color: #434B5C;\n",
              "      --hover-fill-color: #FFFFFF;\n",
              "      --disabled-bg-color: #3B4455;\n",
              "      --disabled-fill-color: #666;\n",
              "  }\n",
              "\n",
              "  .colab-df-quickchart {\n",
              "    background-color: var(--bg-color);\n",
              "    border: none;\n",
              "    border-radius: 50%;\n",
              "    cursor: pointer;\n",
              "    display: none;\n",
              "    fill: var(--fill-color);\n",
              "    height: 32px;\n",
              "    padding: 0;\n",
              "    width: 32px;\n",
              "  }\n",
              "\n",
              "  .colab-df-quickchart:hover {\n",
              "    background-color: var(--hover-bg-color);\n",
              "    box-shadow: 0 1px 2px rgba(60, 64, 67, 0.3), 0 1px 3px 1px rgba(60, 64, 67, 0.15);\n",
              "    fill: var(--button-hover-fill-color);\n",
              "  }\n",
              "\n",
              "  .colab-df-quickchart-complete:disabled,\n",
              "  .colab-df-quickchart-complete:disabled:hover {\n",
              "    background-color: var(--disabled-bg-color);\n",
              "    fill: var(--disabled-fill-color);\n",
              "    box-shadow: none;\n",
              "  }\n",
              "\n",
              "  .colab-df-spinner {\n",
              "    border: 2px solid var(--fill-color);\n",
              "    border-color: transparent;\n",
              "    border-bottom-color: var(--fill-color);\n",
              "    animation:\n",
              "      spin 1s steps(1) infinite;\n",
              "  }\n",
              "\n",
              "  @keyframes spin {\n",
              "    0% {\n",
              "      border-color: transparent;\n",
              "      border-bottom-color: var(--fill-color);\n",
              "      border-left-color: var(--fill-color);\n",
              "    }\n",
              "    20% {\n",
              "      border-color: transparent;\n",
              "      border-left-color: var(--fill-color);\n",
              "      border-top-color: var(--fill-color);\n",
              "    }\n",
              "    30% {\n",
              "      border-color: transparent;\n",
              "      border-left-color: var(--fill-color);\n",
              "      border-top-color: var(--fill-color);\n",
              "      border-right-color: var(--fill-color);\n",
              "    }\n",
              "    40% {\n",
              "      border-color: transparent;\n",
              "      border-right-color: var(--fill-color);\n",
              "      border-top-color: var(--fill-color);\n",
              "    }\n",
              "    60% {\n",
              "      border-color: transparent;\n",
              "      border-right-color: var(--fill-color);\n",
              "    }\n",
              "    80% {\n",
              "      border-color: transparent;\n",
              "      border-right-color: var(--fill-color);\n",
              "      border-bottom-color: var(--fill-color);\n",
              "    }\n",
              "    90% {\n",
              "      border-color: transparent;\n",
              "      border-bottom-color: var(--fill-color);\n",
              "    }\n",
              "  }\n",
              "</style>\n",
              "\n",
              "  <script>\n",
              "    async function quickchart(key) {\n",
              "      const quickchartButtonEl =\n",
              "        document.querySelector('#' + key + ' button');\n",
              "      quickchartButtonEl.disabled = true;  // To prevent multiple clicks.\n",
              "      quickchartButtonEl.classList.add('colab-df-spinner');\n",
              "      try {\n",
              "        const charts = await google.colab.kernel.invokeFunction(\n",
              "            'suggestCharts', [key], {});\n",
              "      } catch (error) {\n",
              "        console.error('Error during call to suggestCharts:', error);\n",
              "      }\n",
              "      quickchartButtonEl.classList.remove('colab-df-spinner');\n",
              "      quickchartButtonEl.classList.add('colab-df-quickchart-complete');\n",
              "    }\n",
              "    (() => {\n",
              "      let quickchartButtonEl =\n",
              "        document.querySelector('#df-4d4763b0-8d4d-4ee7-8002-7f550d23942a button');\n",
              "      quickchartButtonEl.style.display =\n",
              "        google.colab.kernel.accessAllowed ? 'block' : 'none';\n",
              "    })();\n",
              "  </script>\n",
              "</div>\n",
              "    </div>\n",
              "  </div>\n"
            ]
          },
          "metadata": {},
          "execution_count": 13
        }
      ]
    },
    {
      "cell_type": "code",
      "source": [
        "df.info()"
      ],
      "metadata": {
        "colab": {
          "base_uri": "https://localhost:8080/"
        },
        "id": "U-Yp0Zrk6CWx",
        "outputId": "5a54c518-fad8-473a-98bf-3a3cda932f46"
      },
      "execution_count": null,
      "outputs": [
        {
          "output_type": "stream",
          "name": "stdout",
          "text": [
            "<class 'pandas.core.frame.DataFrame'>\n",
            "Int64Index: 32537 entries, 0 to 32560\n",
            "Data columns (total 13 columns):\n",
            " #   Column          Non-Null Count  Dtype \n",
            "---  ------          --------------  ----- \n",
            " 0   age             32537 non-null  int64 \n",
            " 1   workclass       30701 non-null  object\n",
            " 2   education       32537 non-null  object\n",
            " 3   marital.status  32537 non-null  object\n",
            " 4   occupation      30694 non-null  object\n",
            " 5   relationship    32537 non-null  object\n",
            " 6   race            32537 non-null  object\n",
            " 7   sex             32537 non-null  object\n",
            " 8   capital.gain    32537 non-null  int64 \n",
            " 9   capital.loss    32537 non-null  int64 \n",
            " 10  hours.per.week  32537 non-null  int64 \n",
            " 11  native.country  31955 non-null  object\n",
            " 12  income          32537 non-null  int64 \n",
            "dtypes: int64(5), object(8)\n",
            "memory usage: 3.5+ MB\n"
          ]
        }
      ]
    },
    {
      "cell_type": "markdown",
      "source": [
        "####Replace NaN with mode"
      ],
      "metadata": {
        "id": "5K7xfizWJWjU"
      }
    },
    {
      "cell_type": "code",
      "source": [
        "#since features containing null are categorical features, replacing NaN values with mode\n",
        "for col in ['workclass','occupation','native.country']:\n",
        "  df[col].fillna(df[col].mode()[0], inplace=True)"
      ],
      "metadata": {
        "id": "M0vTd3Wk6FnK"
      },
      "execution_count": null,
      "outputs": []
    },
    {
      "cell_type": "code",
      "source": [
        "df.isnull().sum()"
      ],
      "metadata": {
        "colab": {
          "base_uri": "https://localhost:8080/"
        },
        "id": "wxiX3IRz6dhq",
        "outputId": "4e024c28-ec2b-48e3-ba52-d0a0bcc54d5c"
      },
      "execution_count": null,
      "outputs": [
        {
          "output_type": "execute_result",
          "data": {
            "text/plain": [
              "age               0\n",
              "workclass         0\n",
              "education         0\n",
              "marital.status    0\n",
              "occupation        0\n",
              "relationship      0\n",
              "race              0\n",
              "sex               0\n",
              "capital.gain      0\n",
              "capital.loss      0\n",
              "hours.per.week    0\n",
              "native.country    0\n",
              "income            0\n",
              "dtype: int64"
            ]
          },
          "metadata": {},
          "execution_count": 16
        }
      ]
    },
    {
      "cell_type": "code",
      "source": [
        "df.info()"
      ],
      "metadata": {
        "colab": {
          "base_uri": "https://localhost:8080/"
        },
        "id": "-dAEqFRX6ivK",
        "outputId": "3b0a672f-f827-43a8-bca5-cc4876833ec7"
      },
      "execution_count": null,
      "outputs": [
        {
          "output_type": "stream",
          "name": "stdout",
          "text": [
            "<class 'pandas.core.frame.DataFrame'>\n",
            "Int64Index: 32537 entries, 0 to 32560\n",
            "Data columns (total 13 columns):\n",
            " #   Column          Non-Null Count  Dtype \n",
            "---  ------          --------------  ----- \n",
            " 0   age             32537 non-null  int64 \n",
            " 1   workclass       32537 non-null  object\n",
            " 2   education       32537 non-null  object\n",
            " 3   marital.status  32537 non-null  object\n",
            " 4   occupation      32537 non-null  object\n",
            " 5   relationship    32537 non-null  object\n",
            " 6   race            32537 non-null  object\n",
            " 7   sex             32537 non-null  object\n",
            " 8   capital.gain    32537 non-null  int64 \n",
            " 9   capital.loss    32537 non-null  int64 \n",
            " 10  hours.per.week  32537 non-null  int64 \n",
            " 11  native.country  32537 non-null  object\n",
            " 12  income          32537 non-null  int64 \n",
            "dtypes: int64(5), object(8)\n",
            "memory usage: 3.5+ MB\n"
          ]
        }
      ]
    },
    {
      "cell_type": "code",
      "source": [
        "df.head()"
      ],
      "metadata": {
        "colab": {
          "base_uri": "https://localhost:8080/"
        },
        "id": "ENUX8J596kmS",
        "outputId": "e20d10cf-128b-4055-e035-c14b61c4fc69"
      },
      "execution_count": null,
      "outputs": [
        {
          "output_type": "execute_result",
          "data": {
            "text/plain": [
              "   age workclass     education marital.status         occupation  \\\n",
              "0   90   Private       HS-grad        Widowed     Prof-specialty   \n",
              "1   82   Private       HS-grad        Widowed    Exec-managerial   \n",
              "2   66   Private  Some-college        Widowed     Prof-specialty   \n",
              "3   54   Private       7th-8th       Divorced  Machine-op-inspct   \n",
              "4   41   Private  Some-college      Separated     Prof-specialty   \n",
              "\n",
              "    relationship   race     sex  capital.gain  capital.loss  hours.per.week  \\\n",
              "0  Not-in-family  White  Female             0          4356              40   \n",
              "1  Not-in-family  White  Female             0          4356              18   \n",
              "2      Unmarried  Black  Female             0          4356              40   \n",
              "3      Unmarried  White  Female             0          3900              40   \n",
              "4      Own-child  White  Female             0          3900              40   \n",
              "\n",
              "  native.country  income  \n",
              "0  United-States       1  \n",
              "1  United-States       1  \n",
              "2  United-States       1  \n",
              "3  United-States       1  \n",
              "4  United-States       1  "
            ],
            "text/html": [
              "\n",
              "  <div id=\"df-6c8a581a-46b6-4998-aa33-c7b82059dd72\" class=\"colab-df-container\">\n",
              "    <div>\n",
              "<style scoped>\n",
              "    .dataframe tbody tr th:only-of-type {\n",
              "        vertical-align: middle;\n",
              "    }\n",
              "\n",
              "    .dataframe tbody tr th {\n",
              "        vertical-align: top;\n",
              "    }\n",
              "\n",
              "    .dataframe thead th {\n",
              "        text-align: right;\n",
              "    }\n",
              "</style>\n",
              "<table border=\"1\" class=\"dataframe\">\n",
              "  <thead>\n",
              "    <tr style=\"text-align: right;\">\n",
              "      <th></th>\n",
              "      <th>age</th>\n",
              "      <th>workclass</th>\n",
              "      <th>education</th>\n",
              "      <th>marital.status</th>\n",
              "      <th>occupation</th>\n",
              "      <th>relationship</th>\n",
              "      <th>race</th>\n",
              "      <th>sex</th>\n",
              "      <th>capital.gain</th>\n",
              "      <th>capital.loss</th>\n",
              "      <th>hours.per.week</th>\n",
              "      <th>native.country</th>\n",
              "      <th>income</th>\n",
              "    </tr>\n",
              "  </thead>\n",
              "  <tbody>\n",
              "    <tr>\n",
              "      <th>0</th>\n",
              "      <td>90</td>\n",
              "      <td>Private</td>\n",
              "      <td>HS-grad</td>\n",
              "      <td>Widowed</td>\n",
              "      <td>Prof-specialty</td>\n",
              "      <td>Not-in-family</td>\n",
              "      <td>White</td>\n",
              "      <td>Female</td>\n",
              "      <td>0</td>\n",
              "      <td>4356</td>\n",
              "      <td>40</td>\n",
              "      <td>United-States</td>\n",
              "      <td>1</td>\n",
              "    </tr>\n",
              "    <tr>\n",
              "      <th>1</th>\n",
              "      <td>82</td>\n",
              "      <td>Private</td>\n",
              "      <td>HS-grad</td>\n",
              "      <td>Widowed</td>\n",
              "      <td>Exec-managerial</td>\n",
              "      <td>Not-in-family</td>\n",
              "      <td>White</td>\n",
              "      <td>Female</td>\n",
              "      <td>0</td>\n",
              "      <td>4356</td>\n",
              "      <td>18</td>\n",
              "      <td>United-States</td>\n",
              "      <td>1</td>\n",
              "    </tr>\n",
              "    <tr>\n",
              "      <th>2</th>\n",
              "      <td>66</td>\n",
              "      <td>Private</td>\n",
              "      <td>Some-college</td>\n",
              "      <td>Widowed</td>\n",
              "      <td>Prof-specialty</td>\n",
              "      <td>Unmarried</td>\n",
              "      <td>Black</td>\n",
              "      <td>Female</td>\n",
              "      <td>0</td>\n",
              "      <td>4356</td>\n",
              "      <td>40</td>\n",
              "      <td>United-States</td>\n",
              "      <td>1</td>\n",
              "    </tr>\n",
              "    <tr>\n",
              "      <th>3</th>\n",
              "      <td>54</td>\n",
              "      <td>Private</td>\n",
              "      <td>7th-8th</td>\n",
              "      <td>Divorced</td>\n",
              "      <td>Machine-op-inspct</td>\n",
              "      <td>Unmarried</td>\n",
              "      <td>White</td>\n",
              "      <td>Female</td>\n",
              "      <td>0</td>\n",
              "      <td>3900</td>\n",
              "      <td>40</td>\n",
              "      <td>United-States</td>\n",
              "      <td>1</td>\n",
              "    </tr>\n",
              "    <tr>\n",
              "      <th>4</th>\n",
              "      <td>41</td>\n",
              "      <td>Private</td>\n",
              "      <td>Some-college</td>\n",
              "      <td>Separated</td>\n",
              "      <td>Prof-specialty</td>\n",
              "      <td>Own-child</td>\n",
              "      <td>White</td>\n",
              "      <td>Female</td>\n",
              "      <td>0</td>\n",
              "      <td>3900</td>\n",
              "      <td>40</td>\n",
              "      <td>United-States</td>\n",
              "      <td>1</td>\n",
              "    </tr>\n",
              "  </tbody>\n",
              "</table>\n",
              "</div>\n",
              "    <div class=\"colab-df-buttons\">\n",
              "\n",
              "  <div class=\"colab-df-container\">\n",
              "    <button class=\"colab-df-convert\" onclick=\"convertToInteractive('df-6c8a581a-46b6-4998-aa33-c7b82059dd72')\"\n",
              "            title=\"Convert this dataframe to an interactive table.\"\n",
              "            style=\"display:none;\">\n",
              "\n",
              "  <svg xmlns=\"http://www.w3.org/2000/svg\" height=\"24px\" viewBox=\"0 -960 960 960\">\n",
              "    <path d=\"M120-120v-720h720v720H120Zm60-500h600v-160H180v160Zm220 220h160v-160H400v160Zm0 220h160v-160H400v160ZM180-400h160v-160H180v160Zm440 0h160v-160H620v160ZM180-180h160v-160H180v160Zm440 0h160v-160H620v160Z\"/>\n",
              "  </svg>\n",
              "    </button>\n",
              "\n",
              "  <style>\n",
              "    .colab-df-container {\n",
              "      display:flex;\n",
              "      gap: 12px;\n",
              "    }\n",
              "\n",
              "    .colab-df-convert {\n",
              "      background-color: #E8F0FE;\n",
              "      border: none;\n",
              "      border-radius: 50%;\n",
              "      cursor: pointer;\n",
              "      display: none;\n",
              "      fill: #1967D2;\n",
              "      height: 32px;\n",
              "      padding: 0 0 0 0;\n",
              "      width: 32px;\n",
              "    }\n",
              "\n",
              "    .colab-df-convert:hover {\n",
              "      background-color: #E2EBFA;\n",
              "      box-shadow: 0px 1px 2px rgba(60, 64, 67, 0.3), 0px 1px 3px 1px rgba(60, 64, 67, 0.15);\n",
              "      fill: #174EA6;\n",
              "    }\n",
              "\n",
              "    .colab-df-buttons div {\n",
              "      margin-bottom: 4px;\n",
              "    }\n",
              "\n",
              "    [theme=dark] .colab-df-convert {\n",
              "      background-color: #3B4455;\n",
              "      fill: #D2E3FC;\n",
              "    }\n",
              "\n",
              "    [theme=dark] .colab-df-convert:hover {\n",
              "      background-color: #434B5C;\n",
              "      box-shadow: 0px 1px 3px 1px rgba(0, 0, 0, 0.15);\n",
              "      filter: drop-shadow(0px 1px 2px rgba(0, 0, 0, 0.3));\n",
              "      fill: #FFFFFF;\n",
              "    }\n",
              "  </style>\n",
              "\n",
              "    <script>\n",
              "      const buttonEl =\n",
              "        document.querySelector('#df-6c8a581a-46b6-4998-aa33-c7b82059dd72 button.colab-df-convert');\n",
              "      buttonEl.style.display =\n",
              "        google.colab.kernel.accessAllowed ? 'block' : 'none';\n",
              "\n",
              "      async function convertToInteractive(key) {\n",
              "        const element = document.querySelector('#df-6c8a581a-46b6-4998-aa33-c7b82059dd72');\n",
              "        const dataTable =\n",
              "          await google.colab.kernel.invokeFunction('convertToInteractive',\n",
              "                                                    [key], {});\n",
              "        if (!dataTable) return;\n",
              "\n",
              "        const docLinkHtml = 'Like what you see? Visit the ' +\n",
              "          '<a target=\"_blank\" href=https://colab.research.google.com/notebooks/data_table.ipynb>data table notebook</a>'\n",
              "          + ' to learn more about interactive tables.';\n",
              "        element.innerHTML = '';\n",
              "        dataTable['output_type'] = 'display_data';\n",
              "        await google.colab.output.renderOutput(dataTable, element);\n",
              "        const docLink = document.createElement('div');\n",
              "        docLink.innerHTML = docLinkHtml;\n",
              "        element.appendChild(docLink);\n",
              "      }\n",
              "    </script>\n",
              "  </div>\n",
              "\n",
              "\n",
              "<div id=\"df-0104b4e3-be59-424e-8570-6add961ca95d\">\n",
              "  <button class=\"colab-df-quickchart\" onclick=\"quickchart('df-0104b4e3-be59-424e-8570-6add961ca95d')\"\n",
              "            title=\"Suggest charts.\"\n",
              "            style=\"display:none;\">\n",
              "\n",
              "<svg xmlns=\"http://www.w3.org/2000/svg\" height=\"24px\"viewBox=\"0 0 24 24\"\n",
              "     width=\"24px\">\n",
              "    <g>\n",
              "        <path d=\"M19 3H5c-1.1 0-2 .9-2 2v14c0 1.1.9 2 2 2h14c1.1 0 2-.9 2-2V5c0-1.1-.9-2-2-2zM9 17H7v-7h2v7zm4 0h-2V7h2v10zm4 0h-2v-4h2v4z\"/>\n",
              "    </g>\n",
              "</svg>\n",
              "  </button>\n",
              "\n",
              "<style>\n",
              "  .colab-df-quickchart {\n",
              "      --bg-color: #E8F0FE;\n",
              "      --fill-color: #1967D2;\n",
              "      --hover-bg-color: #E2EBFA;\n",
              "      --hover-fill-color: #174EA6;\n",
              "      --disabled-fill-color: #AAA;\n",
              "      --disabled-bg-color: #DDD;\n",
              "  }\n",
              "\n",
              "  [theme=dark] .colab-df-quickchart {\n",
              "      --bg-color: #3B4455;\n",
              "      --fill-color: #D2E3FC;\n",
              "      --hover-bg-color: #434B5C;\n",
              "      --hover-fill-color: #FFFFFF;\n",
              "      --disabled-bg-color: #3B4455;\n",
              "      --disabled-fill-color: #666;\n",
              "  }\n",
              "\n",
              "  .colab-df-quickchart {\n",
              "    background-color: var(--bg-color);\n",
              "    border: none;\n",
              "    border-radius: 50%;\n",
              "    cursor: pointer;\n",
              "    display: none;\n",
              "    fill: var(--fill-color);\n",
              "    height: 32px;\n",
              "    padding: 0;\n",
              "    width: 32px;\n",
              "  }\n",
              "\n",
              "  .colab-df-quickchart:hover {\n",
              "    background-color: var(--hover-bg-color);\n",
              "    box-shadow: 0 1px 2px rgba(60, 64, 67, 0.3), 0 1px 3px 1px rgba(60, 64, 67, 0.15);\n",
              "    fill: var(--button-hover-fill-color);\n",
              "  }\n",
              "\n",
              "  .colab-df-quickchart-complete:disabled,\n",
              "  .colab-df-quickchart-complete:disabled:hover {\n",
              "    background-color: var(--disabled-bg-color);\n",
              "    fill: var(--disabled-fill-color);\n",
              "    box-shadow: none;\n",
              "  }\n",
              "\n",
              "  .colab-df-spinner {\n",
              "    border: 2px solid var(--fill-color);\n",
              "    border-color: transparent;\n",
              "    border-bottom-color: var(--fill-color);\n",
              "    animation:\n",
              "      spin 1s steps(1) infinite;\n",
              "  }\n",
              "\n",
              "  @keyframes spin {\n",
              "    0% {\n",
              "      border-color: transparent;\n",
              "      border-bottom-color: var(--fill-color);\n",
              "      border-left-color: var(--fill-color);\n",
              "    }\n",
              "    20% {\n",
              "      border-color: transparent;\n",
              "      border-left-color: var(--fill-color);\n",
              "      border-top-color: var(--fill-color);\n",
              "    }\n",
              "    30% {\n",
              "      border-color: transparent;\n",
              "      border-left-color: var(--fill-color);\n",
              "      border-top-color: var(--fill-color);\n",
              "      border-right-color: var(--fill-color);\n",
              "    }\n",
              "    40% {\n",
              "      border-color: transparent;\n",
              "      border-right-color: var(--fill-color);\n",
              "      border-top-color: var(--fill-color);\n",
              "    }\n",
              "    60% {\n",
              "      border-color: transparent;\n",
              "      border-right-color: var(--fill-color);\n",
              "    }\n",
              "    80% {\n",
              "      border-color: transparent;\n",
              "      border-right-color: var(--fill-color);\n",
              "      border-bottom-color: var(--fill-color);\n",
              "    }\n",
              "    90% {\n",
              "      border-color: transparent;\n",
              "      border-bottom-color: var(--fill-color);\n",
              "    }\n",
              "  }\n",
              "</style>\n",
              "\n",
              "  <script>\n",
              "    async function quickchart(key) {\n",
              "      const quickchartButtonEl =\n",
              "        document.querySelector('#' + key + ' button');\n",
              "      quickchartButtonEl.disabled = true;  // To prevent multiple clicks.\n",
              "      quickchartButtonEl.classList.add('colab-df-spinner');\n",
              "      try {\n",
              "        const charts = await google.colab.kernel.invokeFunction(\n",
              "            'suggestCharts', [key], {});\n",
              "      } catch (error) {\n",
              "        console.error('Error during call to suggestCharts:', error);\n",
              "      }\n",
              "      quickchartButtonEl.classList.remove('colab-df-spinner');\n",
              "      quickchartButtonEl.classList.add('colab-df-quickchart-complete');\n",
              "    }\n",
              "    (() => {\n",
              "      let quickchartButtonEl =\n",
              "        document.querySelector('#df-0104b4e3-be59-424e-8570-6add961ca95d button');\n",
              "      quickchartButtonEl.style.display =\n",
              "        google.colab.kernel.accessAllowed ? 'block' : 'none';\n",
              "    })();\n",
              "  </script>\n",
              "</div>\n",
              "    </div>\n",
              "  </div>\n"
            ]
          },
          "metadata": {},
          "execution_count": 18
        }
      ]
    },
    {
      "cell_type": "code",
      "source": [
        "(df == 0).sum()"
      ],
      "metadata": {
        "colab": {
          "base_uri": "https://localhost:8080/"
        },
        "id": "aDou2-6KnGef",
        "outputId": "2a1923ee-78a5-437b-a54c-a51c41fce173"
      },
      "execution_count": null,
      "outputs": [
        {
          "output_type": "execute_result",
          "data": {
            "text/plain": [
              "age                   0\n",
              "workclass             0\n",
              "education             0\n",
              "marital.status        0\n",
              "occupation            0\n",
              "relationship          0\n",
              "race                  0\n",
              "sex                   0\n",
              "capital.gain      29825\n",
              "capital.loss      31018\n",
              "hours.per.week        0\n",
              "native.country        0\n",
              "income             7839\n",
              "dtype: int64"
            ]
          },
          "metadata": {},
          "execution_count": 19
        }
      ]
    },
    {
      "cell_type": "markdown",
      "source": [
        "####Data Visualization"
      ],
      "metadata": {
        "id": "TeScs-uFLqxp"
      }
    },
    {
      "cell_type": "code",
      "source": [
        "categorical = [col for col in df.columns if df[col].dtype == 'object' ]\n",
        "numerical = [col for col in df.columns if df[col].dtype != 'object' ]"
      ],
      "metadata": {
        "id": "OlAxCGPTLp9A"
      },
      "execution_count": null,
      "outputs": []
    },
    {
      "cell_type": "code",
      "source": [
        "df[numerical].hist(bins=25, figsize=(8, 8))\n",
        "plt.show()"
      ],
      "metadata": {
        "colab": {
          "base_uri": "https://localhost:8080/"
        },
        "id": "m3PJ8KGQL3Ap",
        "outputId": "fcc071c6-b620-4031-91ed-5d2312c14dd8"
      },
      "execution_count": null,
      "outputs": [
        {
          "output_type": "display_data",
          "data": {
            "text/plain": [
              "<Figure size 800x800 with 6 Axes>"
            ],
            "image/png": "[encoded data removed]"
          },
          "metadata": {}
        }
      ]
    },
    {
      "cell_type": "code",
      "source": [
        "num_rows = len(categorical)\n",
        "num_cols = 3\n",
        "\n",
        "fig = plt.figure(figsize=(12, 25))\n",
        "\n",
        "for i, col in enumerate(categorical):\n",
        "    ax = fig.add_subplot(num_rows, num_cols, i+1)\n",
        "    df[col].value_counts().plot(kind='bar', ax=ax)\n",
        "    ax.set_title(f'{col}')\n",
        "    ax.set_xlabel(col)\n",
        "    ax.set_ylabel('Count')\n",
        "\n",
        "plt.tight_layout()\n",
        "plt.show()"
      ],
      "metadata": {
        "colab": {
          "base_uri": "https://localhost:8080/"
        },
        "id": "llrIRAIyL21q",
        "outputId": "67a04a9f-4796-4c32-86c5-ca8c9fa46c94"
      },
      "execution_count": null,
      "outputs": [
        {
          "output_type": "display_data",
          "data": {
            "text/plain": [
              "<Figure size 1200x2500 with 8 Axes>"
            ],
            "image/png": "[encoded data removed]"
          },
          "metadata": {}
        }
      ]
    },
    {
      "cell_type": "markdown",
      "source": [
        "####Group ages"
      ],
      "metadata": {
        "id": "dxbwq-1kQ5wy"
      }
    },
    {
      "cell_type": "code",
      "source": [
        "sns.histplot(df, x='age', hue='income', bins= 32)"
      ],
      "metadata": {
        "colab": {
          "base_uri": "https://localhost:8080/"
        },
        "id": "gaod1hsQQ4yw",
        "outputId": "fe57b2d1-09fd-49b4-bf8e-be50a2114dc6"
      },
      "execution_count": null,
      "outputs": [
        {
          "output_type": "execute_result",
          "data": {
            "text/plain": [
              "<Axes: xlabel='age', ylabel='Count'>"
            ]
          },
          "metadata": {},
          "execution_count": 23
        },
        {
          "output_type": "display_data",
          "data": {
            "text/plain": [
              "<Figure size 640x480 with 1 Axes>"
            ],
            "image/png": "[encoded data removed]"
          },
          "metadata": {}
        }
      ]
    },
    {
      "cell_type": "code",
      "source": [
        "#fuction to organize age in classes\n",
        "def age_group(df):\n",
        "    age_bins = [0, 20, 40, 60, float('inf')]\n",
        "    age_labels = ['1', '2', '3', '4']\n",
        "    df_age_range = df.copy()\n",
        "    df_age_range['age'] = pd.cut(df_age_range['age'], bins=age_bins, labels=age_labels)\n",
        "    return df_age_range\n",
        "\n",
        "df = age_group(df).copy()"
      ],
      "metadata": {
        "id": "oQTNvMEoRYN0"
      },
      "execution_count": null,
      "outputs": []
    },
    {
      "cell_type": "code",
      "source": [
        "sns.histplot(df, x='age', hue='income', bins= 32)"
      ],
      "metadata": {
        "colab": {
          "base_uri": "https://localhost:8080/"
        },
        "id": "xQv_Zi2ERYK5",
        "outputId": "c5320831-9045-46c7-f73c-97aa54257b9e"
      },
      "execution_count": null,
      "outputs": [
        {
          "output_type": "execute_result",
          "data": {
            "text/plain": [
              "<Axes: xlabel='age', ylabel='Count'>"
            ]
          },
          "metadata": {},
          "execution_count": 25
        },
        {
          "output_type": "display_data",
          "data": {
            "text/plain": [
              "<Figure size 640x480 with 1 Axes>"
            ],
            "image/png": "[encoded data removed]"
          },
          "metadata": {}
        }
      ]
    },
    {
      "cell_type": "code",
      "source": [
        "age = pd.get_dummies(df['age'], drop_first=True)\n",
        "df = df.drop('age',axis=1)"
      ],
      "metadata": {
        "id": "JOGqctEyUBq9"
      },
      "execution_count": null,
      "outputs": []
    },
    {
      "cell_type": "code",
      "source": [
        "df = pd.concat([df,age],axis=1)"
      ],
      "metadata": {
        "id": "s6abpLBgUBbJ"
      },
      "execution_count": null,
      "outputs": []
    },
    {
      "cell_type": "markdown",
      "source": [
        "####workclass"
      ],
      "metadata": {
        "id": "6-ZYxmwJSzjM"
      }
    },
    {
      "cell_type": "code",
      "source": [
        "workclass_labels = df['workclass']\n",
        "workclass_labels = list(set(workclass_labels))\n",
        "print(workclass_labels)"
      ],
      "metadata": {
        "colab": {
          "base_uri": "https://localhost:8080/"
        },
        "id": "bvAtWQUqRYIr",
        "outputId": "cf5fa9ae-92c6-42a3-aa06-5b59662cbe46"
      },
      "execution_count": null,
      "outputs": [
        {
          "output_type": "stream",
          "name": "stdout",
          "text": [
            "['State-gov', 'Local-gov', 'Private', 'Self-emp-not-inc', 'Never-worked', 'Federal-gov', 'Without-pay', 'Self-emp-inc']\n"
          ]
        }
      ]
    },
    {
      "cell_type": "code",
      "source": [
        "sns.countplot(data = df, x = 'workclass', hue = 'income')"
      ],
      "metadata": {
        "colab": {
          "base_uri": "https://localhost:8080/"
        },
        "id": "5JzJ4andRYGT",
        "outputId": "4049389d-bfec-475f-876f-f5478b0f36ae"
      },
      "execution_count": null,
      "outputs": [
        {
          "output_type": "execute_result",
          "data": {
            "text/plain": [
              "<Axes: xlabel='workclass', ylabel='count'>"
            ]
          },
          "metadata": {},
          "execution_count": 29
        },
        {
          "output_type": "display_data",
          "data": {
            "text/plain": [
              "<Figure size 640x480 with 1 Axes>"
            ],
            "image/png": "[encoded data removed]"
          },
          "metadata": {}
        }
      ]
    },
    {
      "cell_type": "code",
      "source": [
        "df['workclass'] = df['workclass'].apply(lambda x: 1 if x == 'Private' else 0)"
      ],
      "metadata": {
        "id": "TLlNpTJyUmqK"
      },
      "execution_count": null,
      "outputs": []
    },
    {
      "cell_type": "code",
      "source": [
        "sns.countplot(data = df, x = 'workclass', hue = 'income')"
      ],
      "metadata": {
        "colab": {
          "base_uri": "https://localhost:8080/"
        },
        "id": "GEn15TJHUmjj",
        "outputId": "31d1f166-853a-4b80-8353-9f5af1e265f0"
      },
      "execution_count": null,
      "outputs": [
        {
          "output_type": "execute_result",
          "data": {
            "text/plain": [
              "<Axes: xlabel='workclass', ylabel='count'>"
            ]
          },
          "metadata": {},
          "execution_count": 31
        },
        {
          "output_type": "display_data",
          "data": {
            "text/plain": [
              "<Figure size 640x480 with 1 Axes>"
            ],
            "image/png": "[encoded data removed]"
          },
          "metadata": {}
        }
      ]
    },
    {
      "cell_type": "markdown",
      "source": [
        "####Dummy-encoding all the other categorical features"
      ],
      "metadata": {
        "id": "WwE7mV2NUsbp"
      }
    },
    {
      "cell_type": "code",
      "source": [
        "columns_to_dummy = ['marital.status', 'occupation', 'education',\n",
        "           'relationship', 'race', 'sex', 'native.country']\n",
        "df = pd.get_dummies(df, columns=columns_to_dummy, drop_first=True)"
      ],
      "metadata": {
        "id": "RsPLFGAiUl6_"
      },
      "execution_count": null,
      "outputs": []
    },
    {
      "cell_type": "code",
      "source": [],
      "metadata": {
        "id": "7hYcGJVGUl1m"
      },
      "execution_count": null,
      "outputs": []
    },
    {
      "cell_type": "markdown",
      "source": [
        "###Prepare dataset:\n"
      ],
      "metadata": {
        "id": "bWDIsp9tQhSk"
      }
    },
    {
      "cell_type": "markdown",
      "source": [
        "####split data into training set (80%) and test dataset (20%)\n"
      ],
      "metadata": {
        "id": "YHNQta_jRkIp"
      }
    },
    {
      "cell_type": "code",
      "source": [
        "#test train split\n",
        "from sklearn.model_selection import train_test_split\n",
        "\n",
        "data = df\n",
        "X = data.drop('income',axis=1)\n",
        "y = data['income']\n",
        "\n",
        "X_train, X_test, y_train, y_test = train_test_split(X, y, test_size=0.2, stratify=y, random_state=1)\n",
        "client = pd.concat([X_train,y_train],axis=1)\n"
      ],
      "metadata": {
        "id": "togmB7AV3fUf"
      },
      "execution_count": null,
      "outputs": []
    },
    {
      "cell_type": "code",
      "source": [
        "type(X_test)"
      ],
      "metadata": {
        "colab": {
          "base_uri": "https://localhost:8080/"
        },
        "id": "yjoQPosf8ZlS",
        "outputId": "4624d673-ff9a-4858-c6c2-fc686ae1ce62"
      },
      "execution_count": null,
      "outputs": [
        {
          "output_type": "execute_result",
          "data": {
            "text/plain": [
              "pandas.core.frame.DataFrame"
            ]
          },
          "metadata": {},
          "execution_count": 34
        }
      ]
    },
    {
      "cell_type": "code",
      "source": [
        "X_test.shape\n"
      ],
      "metadata": {
        "colab": {
          "base_uri": "https://localhost:8080/"
        },
        "id": "BuH_XNSiWLAt",
        "outputId": "d90d27d7-bdea-4eb1-a57b-7a12c99c68b9"
      },
      "execution_count": null,
      "outputs": [
        {
          "output_type": "execute_result",
          "data": {
            "text/plain": [
              "(6508, 91)"
            ]
          },
          "metadata": {},
          "execution_count": 35
        }
      ]
    },
    {
      "cell_type": "code",
      "source": [
        "X_train.shape"
      ],
      "metadata": {
        "colab": {
          "base_uri": "https://localhost:8080/"
        },
        "id": "mKzEguvPIHSO",
        "outputId": "b202cdd4-3742-45c4-abb6-17dd3a5e5bac"
      },
      "execution_count": null,
      "outputs": [
        {
          "output_type": "execute_result",
          "data": {
            "text/plain": [
              "(26029, 91)"
            ]
          },
          "metadata": {},
          "execution_count": 36
        }
      ]
    },
    {
      "cell_type": "markdown",
      "source": [
        "####split training set int  3 subsets for 3 clients"
      ],
      "metadata": {
        "id": "qR2o5H5sRqYP"
      }
    },
    {
      "cell_type": "code",
      "source": [
        "# Split the data among the clients\n",
        "n_partitions = 3\n",
        "data = client\n",
        "partition_size = (int) (len(data) // n_partitions)\n",
        "client_data = [] #to store partitions of features+outcome for all clients\n",
        "\n",
        "for i in range(n_partitions):\n",
        "  data_partition, data = data.iloc[:partition_size], data.iloc[partition_size:]\n",
        "  X_client_data = data_partition.drop('income',axis=1)\n",
        "  y_client_data = data_partition['income']\n",
        "  data_partition = []\n",
        "  data_partition.append(X_client_data)\n",
        "  data_partition.append(y_client_data)\n",
        "  client_data.append(data_partition)\n"
      ],
      "metadata": {
        "id": "bfo7klzdqQ8G"
      },
      "execution_count": null,
      "outputs": []
    },
    {
      "cell_type": "code",
      "source": [
        "client_data"
      ],
      "metadata": {
        "id": "jzWT7NTw848U",
        "colab": {
          "base_uri": "https://localhost:8080/"
        },
        "outputId": "92983295-7bca-41f4-dac1-a2f1051824b9"
      },
      "execution_count": null,
      "outputs": [
        {
          "output_type": "execute_result",
          "data": {
            "text/plain": [
              "[[       workclass  capital.gain  capital.loss  hours.per.week  2  3  4  \\\n",
              "  20890          1             0             0              40  1  0  0   \n",
              "  801            1             0          1887              40  1  0  0   \n",
              "  18377          1             0             0              30  1  0  0   \n",
              "  7920           1             0             0              50  0  1  0   \n",
              "  26990          0             0             0              40  0  1  0   \n",
              "  ...          ...           ...           ...             ... .. .. ..   \n",
              "  23399          1             0             0              27  0  0  0   \n",
              "  18980          1             0             0              40  1  0  0   \n",
              "  12598          1             0             0              50  1  0  0   \n",
              "  15609          1             0             0              38  0  1  0   \n",
              "  30756          0             0             0              37  0  1  0   \n",
              "  \n",
              "         marital.status_Married-AF-spouse  marital.status_Married-civ-spouse  \\\n",
              "  20890                                 0                                  0   \n",
              "  801                                   0                                  1   \n",
              "  18377                                 0                                  0   \n",
              "  7920                                  0                                  0   \n",
              "  26990                                 0                                  0   \n",
              "  ...                                 ...                                ...   \n",
              "  23399                                 0                                  0   \n",
              "  18980                                 0                                  0   \n",
              "  12598                                 0                                  1   \n",
              "  15609                                 0                                  0   \n",
              "  30756                                 0                                  0   \n",
              "  \n",
              "         marital.status_Married-spouse-absent  ...  native.country_Portugal  \\\n",
              "  20890                                     0  ...                        0   \n",
              "  801                                       0  ...                        0   \n",
              "  18377                                     0  ...                        0   \n",
              "  7920                                      0  ...                        0   \n",
              "  26990                                     0  ...                        0   \n",
              "  ...                                     ...  ...                      ...   \n",
              "  23399                                     0  ...                        0   \n",
              "  18980                                     0  ...                        0   \n",
              "  12598                                     0  ...                        0   \n",
              "  15609                                     0  ...                        0   \n",
              "  30756                                     0  ...                        0   \n",
              "  \n",
              "         native.country_Puerto-Rico  native.country_Scotland  \\\n",
              "  20890                           0                        0   \n",
              "  801                             0                        0   \n",
              "  18377                           0                        0   \n",
              "  7920                            0                        0   \n",
              "  26990                           0                        0   \n",
              "  ...                           ...                      ...   \n",
              "  23399                           0                        0   \n",
              "  18980                           0                        0   \n",
              "  12598                           0                        0   \n",
              "  15609                           0                        0   \n",
              "  30756                           0                        0   \n",
              "  \n",
              "         native.country_South  native.country_Taiwan  native.country_Thailand  \\\n",
              "  20890                     0                      0                        0   \n",
              "  801                       0                      0                        0   \n",
              "  18377                     0                      0                        0   \n",
              "  7920                      0                      0                        0   \n",
              "  26990                     0                      0                        0   \n",
              "  ...                     ...                    ...                      ...   \n",
              "  23399                     0                      0                        0   \n",
              "  18980                     0                      0                        0   \n",
              "  12598                     0                      0                        0   \n",
              "  15609                     0                      0                        0   \n",
              "  30756                     0                      0                        0   \n",
              "  \n",
              "         native.country_Trinadad&Tobago  native.country_United-States  \\\n",
              "  20890                               0                             1   \n",
              "  801                                 0                             1   \n",
              "  18377                               0                             1   \n",
              "  7920                                0                             1   \n",
              "  26990                               0                             1   \n",
              "  ...                               ...                           ...   \n",
              "  23399                               0                             1   \n",
              "  18980                               0                             0   \n",
              "  12598                               0                             1   \n",
              "  15609                               0                             1   \n",
              "  30756                               0                             1   \n",
              "  \n",
              "         native.country_Vietnam  native.country_Yugoslavia  \n",
              "  20890                       0                          0  \n",
              "  801                         0                          0  \n",
              "  18377                       0                          0  \n",
              "  7920                        0                          0  \n",
              "  26990                       0                          0  \n",
              "  ...                       ...                        ...  \n",
              "  23399                       0                          0  \n",
              "  18980                       0                          0  \n",
              "  12598                       0                          0  \n",
              "  15609                       0                          0  \n",
              "  30756                       0                          0  \n",
              "  \n",
              "  [8676 rows x 91 columns],\n",
              "  20890    1\n",
              "  801      0\n",
              "  18377    1\n",
              "  7920     1\n",
              "  26990    1\n",
              "          ..\n",
              "  23399    1\n",
              "  18980    1\n",
              "  12598    1\n",
              "  15609    1\n",
              "  30756    1\n",
              "  Name: income, Length: 8676, dtype: int64],\n",
              " [       workclass  capital.gain  capital.loss  hours.per.week  2  3  4  \\\n",
              "  29683          1             0             0              50  0  1  0   \n",
              "  29440          1             0             0              40  0  1  0   \n",
              "  12830          1             0             0              40  1  0  0   \n",
              "  27824          1             0             0              40  1  0  0   \n",
              "  883            1             0          1887              60  0  0  1   \n",
              "  ...          ...           ...           ...             ... .. .. ..   \n",
              "  3642           1          3137             0              40  1  0  0   \n",
              "  19591          0             0             0              35  0  1  0   \n",
              "  31242          1             0             0              35  1  0  0   \n",
              "  21776          1             0             0              40  1  0  0   \n",
              "  12777          0             0             0              40  1  0  0   \n",
              "  \n",
              "         marital.status_Married-AF-spouse  marital.status_Married-civ-spouse  \\\n",
              "  29683                                 0                                  0   \n",
              "  29440                                 0                                  0   \n",
              "  12830                                 0                                  1   \n",
              "  27824                                 0                                  0   \n",
              "  883                                   0                                  1   \n",
              "  ...                                 ...                                ...   \n",
              "  3642                                  0                                  1   \n",
              "  19591                                 0                                  0   \n",
              "  31242                                 0                                  0   \n",
              "  21776                                 0                                  0   \n",
              "  12777                                 0                                  0   \n",
              "  \n",
              "         marital.status_Married-spouse-absent  ...  native.country_Portugal  \\\n",
              "  29683                                     0  ...                        0   \n",
              "  29440                                     0  ...                        0   \n",
              "  12830                                     0  ...                        0   \n",
              "  27824                                     0  ...                        0   \n",
              "  883                                       0  ...                        0   \n",
              "  ...                                     ...  ...                      ...   \n",
              "  3642                                      0  ...                        0   \n",
              "  19591                                     0  ...                        0   \n",
              "  31242                                     0  ...                        0   \n",
              "  21776                                     0  ...                        0   \n",
              "  12777                                     0  ...                        0   \n",
              "  \n",
              "         native.country_Puerto-Rico  native.country_Scotland  \\\n",
              "  29683                           0                        0   \n",
              "  29440                           0                        0   \n",
              "  12830                           0                        0   \n",
              "  27824                           0                        0   \n",
              "  883                             0                        0   \n",
              "  ...                           ...                      ...   \n",
              "  3642                            0                        0   \n",
              "  19591                           0                        0   \n",
              "  31242                           1                        0   \n",
              "  21776                           0                        0   \n",
              "  12777                           0                        0   \n",
              "  \n",
              "         native.country_South  native.country_Taiwan  native.country_Thailand  \\\n",
              "  29683                     0                      0                        0   \n",
              "  29440                     0                      0                        0   \n",
              "  12830                     0                      0                        0   \n",
              "  27824                     0                      0                        0   \n",
              "  883                       0                      0                        0   \n",
              "  ...                     ...                    ...                      ...   \n",
              "  3642                      0                      0                        0   \n",
              "  19591                     0                      0                        0   \n",
              "  31242                     0                      0                        0   \n",
              "  21776                     0                      0                        0   \n",
              "  12777                     0                      0                        0   \n",
              "  \n",
              "         native.country_Trinadad&Tobago  native.country_United-States  \\\n",
              "  29683                               0                             1   \n",
              "  29440                               0                             0   \n",
              "  12830                               0                             1   \n",
              "  27824                               0                             1   \n",
              "  883                                 0                             1   \n",
              "  ...                               ...                           ...   \n",
              "  3642                                0                             1   \n",
              "  19591                               0                             1   \n",
              "  31242                               0                             0   \n",
              "  21776                               0                             1   \n",
              "  12777                               0                             1   \n",
              "  \n",
              "         native.country_Vietnam  native.country_Yugoslavia  \n",
              "  29683                       0                          0  \n",
              "  29440                       0                          0  \n",
              "  12830                       0                          0  \n",
              "  27824                       0                          0  \n",
              "  883                         0                          0  \n",
              "  ...                       ...                        ...  \n",
              "  3642                        0                          0  \n",
              "  19591                       0                          0  \n",
              "  31242                       0                          0  \n",
              "  21776                       0                          0  \n",
              "  12777                       0                          0  \n",
              "  \n",
              "  [8676 rows x 91 columns],\n",
              "  29683    1\n",
              "  29440    1\n",
              "  12830    1\n",
              "  27824    1\n",
              "  883      0\n",
              "          ..\n",
              "  3642     1\n",
              "  19591    1\n",
              "  31242    1\n",
              "  21776    1\n",
              "  12777    1\n",
              "  Name: income, Length: 8676, dtype: int64],\n",
              " [       workclass  capital.gain  capital.loss  hours.per.week  2  3  4  \\\n",
              "  17987          0             0             0              50  0  1  0   \n",
              "  2338           1          8614             0              40  1  0  0   \n",
              "  22254          0             0             0              10  0  0  0   \n",
              "  21703          1             0             0              12  0  1  0   \n",
              "  32296          0             0             0              40  1  0  0   \n",
              "  ...          ...           ...           ...             ... .. .. ..   \n",
              "  30421          1             0             0              50  1  0  0   \n",
              "  29252          1             0             0              40  0  0  0   \n",
              "  12973          1             0             0              35  0  1  0   \n",
              "  30610          1             0             0              30  1  0  0   \n",
              "  24232          0             0             0              52  1  0  0   \n",
              "  \n",
              "         marital.status_Married-AF-spouse  marital.status_Married-civ-spouse  \\\n",
              "  17987                                 0                                  0   \n",
              "  2338                                  0                                  0   \n",
              "  22254                                 0                                  0   \n",
              "  21703                                 0                                  0   \n",
              "  32296                                 0                                  1   \n",
              "  ...                                 ...                                ...   \n",
              "  30421                                 0                                  1   \n",
              "  29252                                 0                                  0   \n",
              "  12973                                 0                                  0   \n",
              "  30610                                 0                                  1   \n",
              "  24232                                 0                                  0   \n",
              "  \n",
              "         marital.status_Married-spouse-absent  ...  native.country_Portugal  \\\n",
              "  17987                                     0  ...                        0   \n",
              "  2338                                      0  ...                        0   \n",
              "  22254                                     0  ...                        0   \n",
              "  21703                                     0  ...                        0   \n",
              "  32296                                     0  ...                        0   \n",
              "  ...                                     ...  ...                      ...   \n",
              "  30421                                     0  ...                        0   \n",
              "  29252                                     0  ...                        0   \n",
              "  12973                                     1  ...                        0   \n",
              "  30610                                     0  ...                        0   \n",
              "  24232                                     0  ...                        0   \n",
              "  \n",
              "         native.country_Puerto-Rico  native.country_Scotland  \\\n",
              "  17987                           0                        0   \n",
              "  2338                            0                        0   \n",
              "  22254                           0                        0   \n",
              "  21703                           0                        0   \n",
              "  32296                           0                        0   \n",
              "  ...                           ...                      ...   \n",
              "  30421                           0                        0   \n",
              "  29252                           0                        0   \n",
              "  12973                           1                        0   \n",
              "  30610                           0                        0   \n",
              "  24232                           0                        0   \n",
              "  \n",
              "         native.country_South  native.country_Taiwan  native.country_Thailand  \\\n",
              "  17987                     0                      0                        0   \n",
              "  2338                      0                      0                        0   \n",
              "  22254                     0                      0                        0   \n",
              "  21703                     0                      0                        0   \n",
              "  32296                     0                      0                        0   \n",
              "  ...                     ...                    ...                      ...   \n",
              "  30421                     0                      0                        0   \n",
              "  29252                     0                      0                        0   \n",
              "  12973                     0                      0                        0   \n",
              "  30610                     0                      0                        0   \n",
              "  24232                     0                      0                        0   \n",
              "  \n",
              "         native.country_Trinadad&Tobago  native.country_United-States  \\\n",
              "  17987                               0                             1   \n",
              "  2338                                0                             1   \n",
              "  22254                               0                             1   \n",
              "  21703                               0                             1   \n",
              "  32296                               0                             1   \n",
              "  ...                               ...                           ...   \n",
              "  30421                               0                             1   \n",
              "  29252                               0                             1   \n",
              "  12973                               0                             0   \n",
              "  30610                               0                             0   \n",
              "  24232                               0                             1   \n",
              "  \n",
              "         native.country_Vietnam  native.country_Yugoslavia  \n",
              "  17987                       0                          0  \n",
              "  2338                        0                          0  \n",
              "  22254                       0                          0  \n",
              "  21703                       0                          0  \n",
              "  32296                       0                          0  \n",
              "  ...                       ...                        ...  \n",
              "  30421                       0                          0  \n",
              "  29252                       0                          0  \n",
              "  12973                       0                          0  \n",
              "  30610                       0                          0  \n",
              "  24232                       0                          0  \n",
              "  \n",
              "  [8676 rows x 91 columns],\n",
              "  17987    1\n",
              "  2338     0\n",
              "  22254    1\n",
              "  21703    1\n",
              "  32296    0\n",
              "          ..\n",
              "  30421    1\n",
              "  29252    1\n",
              "  12973    1\n",
              "  30610    1\n",
              "  24232    1\n",
              "  Name: income, Length: 8676, dtype: int64]]"
            ]
          },
          "metadata": {},
          "execution_count": 38
        }
      ]
    },
    {
      "cell_type": "markdown",
      "source": [
        "###Train Model"
      ],
      "metadata": {
        "id": "c3rO7UmR6mme"
      }
    },
    {
      "cell_type": "markdown",
      "source": [
        "####1. Train all data together"
      ],
      "metadata": {
        "id": "vCR0q6TPKmW9"
      }
    },
    {
      "cell_type": "code",
      "source": [
        "def classify(pred_y):\n",
        "  pred = pred_y\n",
        "  for i in range(len(pred)):\n",
        "    if pred[i] <= pred.mean() :\n",
        "      pred[i] = 0;\n",
        "    else:\n",
        "      pred[i] = 1;\n",
        "  pred_y = pred\n",
        "  return pred_y"
      ],
      "metadata": {
        "id": "Gi7FMoij0OMv"
      },
      "execution_count": null,
      "outputs": []
    },
    {
      "cell_type": "code",
      "source": [
        "# Create and train the first Logistic Regression model\n",
        "model_total = LinearRegression()\n",
        "model_total.fit(X_train, y_train)"
      ],
      "metadata": {
        "colab": {
          "base_uri": "https://localhost:8080/"
        },
        "id": "NAiGl9BeWaX6",
        "outputId": "417464e8-23f1-4669-8ef9-deb57f4fa4d8"
      },
      "execution_count": null,
      "outputs": [
        {
          "output_type": "execute_result",
          "data": {
            "text/plain": [
              "LinearRegression()"
            ],
            "text/html": [
              "<style>#sk-container-id-1 {color: black;background-color: white;}#sk-container-id-1 pre{padding: 0;}#sk-container-id-1 div.sk-toggleable {background-color: white;}#sk-container-id-1 label.sk-toggleable__label {cursor: pointer;display: block;width: 100%;margin-bottom: 0;padding: 0.3em;box-sizing: border-box;text-align: center;}#sk-container-id-1 label.sk-toggleable__label-arrow:before {content: \"▸\";float: left;margin-right: 0.25em;color: #696969;}#sk-container-id-1 label.sk-toggleable__label-arrow:hover:before {color: black;}#sk-container-id-1 div.sk-estimator:hover label.sk-toggleable__label-arrow:before {color: black;}#sk-container-id-1 div.sk-toggleable__content {max-height: 0;max-width: 0;overflow: hidden;text-align: left;background-color: #f0f8ff;}#sk-container-id-1 div.sk-toggleable__content pre {margin: 0.2em;color: black;border-radius: 0.25em;background-color: #f0f8ff;}#sk-container-id-1 input.sk-toggleable__control:checked~div.sk-toggleable__content {max-height: 200px;max-width: 100%;overflow: auto;}#sk-container-id-1 input.sk-toggleable__control:checked~label.sk-toggleable__label-arrow:before {content: \"▾\";}#sk-container-id-1 div.sk-estimator input.sk-toggleable__control:checked~label.sk-toggleable__label {background-color: #d4ebff;}#sk-container-id-1 div.sk-label input.sk-toggleable__control:checked~label.sk-toggleable__label {background-color: #d4ebff;}#sk-container-id-1 input.sk-hidden--visually {border: 0;clip: rect(1px 1px 1px 1px);clip: rect(1px, 1px, 1px, 1px);height: 1px;margin: -1px;overflow: hidden;padding: 0;position: absolute;width: 1px;}#sk-container-id-1 div.sk-estimator {font-family: monospace;background-color: #f0f8ff;border: 1px dotted black;border-radius: 0.25em;box-sizing: border-box;margin-bottom: 0.5em;}#sk-container-id-1 div.sk-estimator:hover {background-color: #d4ebff;}#sk-container-id-1 div.sk-parallel-item::after {content: \"\";width: 100%;border-bottom: 1px solid gray;flex-grow: 1;}#sk-container-id-1 div.sk-label:hover label.sk-toggleable__label {background-color: #d4ebff;}#sk-container-id-1 div.sk-serial::before {content: \"\";position: absolute;border-left: 1px solid gray;box-sizing: border-box;top: 0;bottom: 0;left: 50%;z-index: 0;}#sk-container-id-1 div.sk-serial {display: flex;flex-direction: column;align-items: center;background-color: white;padding-right: 0.2em;padding-left: 0.2em;position: relative;}#sk-container-id-1 div.sk-item {position: relative;z-index: 1;}#sk-container-id-1 div.sk-parallel {display: flex;align-items: stretch;justify-content: center;background-color: white;position: relative;}#sk-container-id-1 div.sk-item::before, #sk-container-id-1 div.sk-parallel-item::before {content: \"\";position: absolute;border-left: 1px solid gray;box-sizing: border-box;top: 0;bottom: 0;left: 50%;z-index: -1;}#sk-container-id-1 div.sk-parallel-item {display: flex;flex-direction: column;z-index: 1;position: relative;background-color: white;}#sk-container-id-1 div.sk-parallel-item:first-child::after {align-self: flex-end;width: 50%;}#sk-container-id-1 div.sk-parallel-item:last-child::after {align-self: flex-start;width: 50%;}#sk-container-id-1 div.sk-parallel-item:only-child::after {width: 0;}#sk-container-id-1 div.sk-dashed-wrapped {border: 1px dashed gray;margin: 0 0.4em 0.5em 0.4em;box-sizing: border-box;padding-bottom: 0.4em;background-color: white;}#sk-container-id-1 div.sk-label label {font-family: monospace;font-weight: bold;display: inline-block;line-height: 1.2em;}#sk-container-id-1 div.sk-label-container {text-align: center;}#sk-container-id-1 div.sk-container {/* jupyter's `normalize.less` sets `[hidden] { display: none; }` but bootstrap.min.css set `[hidden] { display: none !important; }` so we also need the `!important` here to be able to override the default hidden behavior on the sphinx rendered scikit-learn.org. See: https://github.com/scikit-learn/scikit-learn/issues/21755 */display: inline-block !important;position: relative;}#sk-container-id-1 div.sk-text-repr-fallback {display: none;}</style><div id=\"sk-container-id-1\" class=\"sk-top-container\"><div class=\"sk-text-repr-fallback\"><pre>LinearRegression()</pre><b>In a Jupyter environment, please rerun this cell to show the HTML representation or trust the notebook. <br />On GitHub, the HTML representation is unable to render, please try loading this page with nbviewer.org.</b></div><div class=\"sk-container\" hidden><div class=\"sk-item\"><div class=\"sk-estimator sk-toggleable\"><input class=\"sk-toggleable__control sk-hidden--visually\" id=\"sk-estimator-id-1\" type=\"checkbox\" checked><label for=\"sk-estimator-id-1\" class=\"sk-toggleable__label sk-toggleable__label-arrow\">LinearRegression</label><div class=\"sk-toggleable__content\"><pre>LinearRegression()</pre></div></div></div></div></div>"
            ]
          },
          "metadata": {},
          "execution_count": 40
        }
      ]
    },
    {
      "cell_type": "code",
      "source": [
        "# Make predictions on the test data using the global model\n",
        "y_pred_total = model_total.predict(X_test)\n",
        "y_pred_total = classify(y_pred_total)"
      ],
      "metadata": {
        "id": "6D7U8Q_JWuhR"
      },
      "execution_count": null,
      "outputs": []
    },
    {
      "cell_type": "code",
      "source": [
        "# Calculate accuracy\n",
        "accuracy_total = accuracy_score(y_pred_total,y_test)\n",
        "print(\"Accuracy:\", accuracy_total)"
      ],
      "metadata": {
        "colab": {
          "base_uri": "https://localhost:8080/"
        },
        "id": "iBi6wLbVWudd",
        "outputId": "26df57c6-2b5c-4687-abc0-b0ceb20e79c6"
      },
      "execution_count": null,
      "outputs": [
        {
          "output_type": "stream",
          "name": "stdout",
          "text": [
            "Accuracy: 0.7914874001229256\n"
          ]
        }
      ]
    },
    {
      "cell_type": "code",
      "source": [],
      "metadata": {
        "id": "VPSLwGpOWuVl"
      },
      "execution_count": null,
      "outputs": []
    },
    {
      "cell_type": "markdown",
      "source": [
        "####2. Train Local models for every client"
      ],
      "metadata": {
        "id": "CHHpOMtuTa_S"
      }
    },
    {
      "cell_type": "code",
      "source": [
        "# Create and train the first Logistic Regression model\n",
        "model1 = LinearRegression()\n",
        "X_train1 = client_data[0][0]\n",
        "y_train1 = client_data[0][1]\n",
        "model1.fit(X_train1, y_train1)"
      ],
      "metadata": {
        "colab": {
          "base_uri": "https://localhost:8080/"
        },
        "id": "1nJz4mcdNFVf",
        "outputId": "8bc6dd69-6757-4793-9fe8-81c49da6c6db"
      },
      "execution_count": null,
      "outputs": [
        {
          "output_type": "execute_result",
          "data": {
            "text/plain": [
              "LinearRegression()"
            ],
            "text/html": [
              "<style>#sk-container-id-2 {color: black;background-color: white;}#sk-container-id-2 pre{padding: 0;}#sk-container-id-2 div.sk-toggleable {background-color: white;}#sk-container-id-2 label.sk-toggleable__label {cursor: pointer;display: block;width: 100%;margin-bottom: 0;padding: 0.3em;box-sizing: border-box;text-align: center;}#sk-container-id-2 label.sk-toggleable__label-arrow:before {content: \"▸\";float: left;margin-right: 0.25em;color: #696969;}#sk-container-id-2 label.sk-toggleable__label-arrow:hover:before {color: black;}#sk-container-id-2 div.sk-estimator:hover label.sk-toggleable__label-arrow:before {color: black;}#sk-container-id-2 div.sk-toggleable__content {max-height: 0;max-width: 0;overflow: hidden;text-align: left;background-color: #f0f8ff;}#sk-container-id-2 div.sk-toggleable__content pre {margin: 0.2em;color: black;border-radius: 0.25em;background-color: #f0f8ff;}#sk-container-id-2 input.sk-toggleable__control:checked~div.sk-toggleable__content {max-height: 200px;max-width: 100%;overflow: auto;}#sk-container-id-2 input.sk-toggleable__control:checked~label.sk-toggleable__label-arrow:before {content: \"▾\";}#sk-container-id-2 div.sk-estimator input.sk-toggleable__control:checked~label.sk-toggleable__label {background-color: #d4ebff;}#sk-container-id-2 div.sk-label input.sk-toggleable__control:checked~label.sk-toggleable__label {background-color: #d4ebff;}#sk-container-id-2 input.sk-hidden--visually {border: 0;clip: rect(1px 1px 1px 1px);clip: rect(1px, 1px, 1px, 1px);height: 1px;margin: -1px;overflow: hidden;padding: 0;position: absolute;width: 1px;}#sk-container-id-2 div.sk-estimator {font-family: monospace;background-color: #f0f8ff;border: 1px dotted black;border-radius: 0.25em;box-sizing: border-box;margin-bottom: 0.5em;}#sk-container-id-2 div.sk-estimator:hover {background-color: #d4ebff;}#sk-container-id-2 div.sk-parallel-item::after {content: \"\";width: 100%;border-bottom: 1px solid gray;flex-grow: 1;}#sk-container-id-2 div.sk-label:hover label.sk-toggleable__label {background-color: #d4ebff;}#sk-container-id-2 div.sk-serial::before {content: \"\";position: absolute;border-left: 1px solid gray;box-sizing: border-box;top: 0;bottom: 0;left: 50%;z-index: 0;}#sk-container-id-2 div.sk-serial {display: flex;flex-direction: column;align-items: center;background-color: white;padding-right: 0.2em;padding-left: 0.2em;position: relative;}#sk-container-id-2 div.sk-item {position: relative;z-index: 1;}#sk-container-id-2 div.sk-parallel {display: flex;align-items: stretch;justify-content: center;background-color: white;position: relative;}#sk-container-id-2 div.sk-item::before, #sk-container-id-2 div.sk-parallel-item::before {content: \"\";position: absolute;border-left: 1px solid gray;box-sizing: border-box;top: 0;bottom: 0;left: 50%;z-index: -1;}#sk-container-id-2 div.sk-parallel-item {display: flex;flex-direction: column;z-index: 1;position: relative;background-color: white;}#sk-container-id-2 div.sk-parallel-item:first-child::after {align-self: flex-end;width: 50%;}#sk-container-id-2 div.sk-parallel-item:last-child::after {align-self: flex-start;width: 50%;}#sk-container-id-2 div.sk-parallel-item:only-child::after {width: 0;}#sk-container-id-2 div.sk-dashed-wrapped {border: 1px dashed gray;margin: 0 0.4em 0.5em 0.4em;box-sizing: border-box;padding-bottom: 0.4em;background-color: white;}#sk-container-id-2 div.sk-label label {font-family: monospace;font-weight: bold;display: inline-block;line-height: 1.2em;}#sk-container-id-2 div.sk-label-container {text-align: center;}#sk-container-id-2 div.sk-container {/* jupyter's `normalize.less` sets `[hidden] { display: none; }` but bootstrap.min.css set `[hidden] { display: none !important; }` so we also need the `!important` here to be able to override the default hidden behavior on the sphinx rendered scikit-learn.org. See: https://github.com/scikit-learn/scikit-learn/issues/21755 */display: inline-block !important;position: relative;}#sk-container-id-2 div.sk-text-repr-fallback {display: none;}</style><div id=\"sk-container-id-2\" class=\"sk-top-container\"><div class=\"sk-text-repr-fallback\"><pre>LinearRegression()</pre><b>In a Jupyter environment, please rerun this cell to show the HTML representation or trust the notebook. <br />On GitHub, the HTML representation is unable to render, please try loading this page with nbviewer.org.</b></div><div class=\"sk-container\" hidden><div class=\"sk-item\"><div class=\"sk-estimator sk-toggleable\"><input class=\"sk-toggleable__control sk-hidden--visually\" id=\"sk-estimator-id-2\" type=\"checkbox\" checked><label for=\"sk-estimator-id-2\" class=\"sk-toggleable__label sk-toggleable__label-arrow\">LinearRegression</label><div class=\"sk-toggleable__content\"><pre>LinearRegression()</pre></div></div></div></div></div>"
            ]
          },
          "metadata": {},
          "execution_count": 43
        }
      ]
    },
    {
      "cell_type": "code",
      "source": [
        "# Create and train the second Logistic Regression model\n",
        "model2 = LinearRegression()\n",
        "X_train2 = client_data[1][0]\n",
        "y_train2 = client_data[1][1]\n",
        "model2.fit(X_train2, y_train2)"
      ],
      "metadata": {
        "colab": {
          "base_uri": "https://localhost:8080/"
        },
        "id": "hct3XNRxNFGH",
        "outputId": "eeeec19e-4e02-49d8-9960-50c9cba3dae2"
      },
      "execution_count": null,
      "outputs": [
        {
          "output_type": "execute_result",
          "data": {
            "text/plain": [
              "LinearRegression()"
            ],
            "text/html": [
              "<style>#sk-container-id-3 {color: black;background-color: white;}#sk-container-id-3 pre{padding: 0;}#sk-container-id-3 div.sk-toggleable {background-color: white;}#sk-container-id-3 label.sk-toggleable__label {cursor: pointer;display: block;width: 100%;margin-bottom: 0;padding: 0.3em;box-sizing: border-box;text-align: center;}#sk-container-id-3 label.sk-toggleable__label-arrow:before {content: \"▸\";float: left;margin-right: 0.25em;color: #696969;}#sk-container-id-3 label.sk-toggleable__label-arrow:hover:before {color: black;}#sk-container-id-3 div.sk-estimator:hover label.sk-toggleable__label-arrow:before {color: black;}#sk-container-id-3 div.sk-toggleable__content {max-height: 0;max-width: 0;overflow: hidden;text-align: left;background-color: #f0f8ff;}#sk-container-id-3 div.sk-toggleable__content pre {margin: 0.2em;color: black;border-radius: 0.25em;background-color: #f0f8ff;}#sk-container-id-3 input.sk-toggleable__control:checked~div.sk-toggleable__content {max-height: 200px;max-width: 100%;overflow: auto;}#sk-container-id-3 input.sk-toggleable__control:checked~label.sk-toggleable__label-arrow:before {content: \"▾\";}#sk-container-id-3 div.sk-estimator input.sk-toggleable__control:checked~label.sk-toggleable__label {background-color: #d4ebff;}#sk-container-id-3 div.sk-label input.sk-toggleable__control:checked~label.sk-toggleable__label {background-color: #d4ebff;}#sk-container-id-3 input.sk-hidden--visually {border: 0;clip: rect(1px 1px 1px 1px);clip: rect(1px, 1px, 1px, 1px);height: 1px;margin: -1px;overflow: hidden;padding: 0;position: absolute;width: 1px;}#sk-container-id-3 div.sk-estimator {font-family: monospace;background-color: #f0f8ff;border: 1px dotted black;border-radius: 0.25em;box-sizing: border-box;margin-bottom: 0.5em;}#sk-container-id-3 div.sk-estimator:hover {background-color: #d4ebff;}#sk-container-id-3 div.sk-parallel-item::after {content: \"\";width: 100%;border-bottom: 1px solid gray;flex-grow: 1;}#sk-container-id-3 div.sk-label:hover label.sk-toggleable__label {background-color: #d4ebff;}#sk-container-id-3 div.sk-serial::before {content: \"\";position: absolute;border-left: 1px solid gray;box-sizing: border-box;top: 0;bottom: 0;left: 50%;z-index: 0;}#sk-container-id-3 div.sk-serial {display: flex;flex-direction: column;align-items: center;background-color: white;padding-right: 0.2em;padding-left: 0.2em;position: relative;}#sk-container-id-3 div.sk-item {position: relative;z-index: 1;}#sk-container-id-3 div.sk-parallel {display: flex;align-items: stretch;justify-content: center;background-color: white;position: relative;}#sk-container-id-3 div.sk-item::before, #sk-container-id-3 div.sk-parallel-item::before {content: \"\";position: absolute;border-left: 1px solid gray;box-sizing: border-box;top: 0;bottom: 0;left: 50%;z-index: -1;}#sk-container-id-3 div.sk-parallel-item {display: flex;flex-direction: column;z-index: 1;position: relative;background-color: white;}#sk-container-id-3 div.sk-parallel-item:first-child::after {align-self: flex-end;width: 50%;}#sk-container-id-3 div.sk-parallel-item:last-child::after {align-self: flex-start;width: 50%;}#sk-container-id-3 div.sk-parallel-item:only-child::after {width: 0;}#sk-container-id-3 div.sk-dashed-wrapped {border: 1px dashed gray;margin: 0 0.4em 0.5em 0.4em;box-sizing: border-box;padding-bottom: 0.4em;background-color: white;}#sk-container-id-3 div.sk-label label {font-family: monospace;font-weight: bold;display: inline-block;line-height: 1.2em;}#sk-container-id-3 div.sk-label-container {text-align: center;}#sk-container-id-3 div.sk-container {/* jupyter's `normalize.less` sets `[hidden] { display: none; }` but bootstrap.min.css set `[hidden] { display: none !important; }` so we also need the `!important` here to be able to override the default hidden behavior on the sphinx rendered scikit-learn.org. See: https://github.com/scikit-learn/scikit-learn/issues/21755 */display: inline-block !important;position: relative;}#sk-container-id-3 div.sk-text-repr-fallback {display: none;}</style><div id=\"sk-container-id-3\" class=\"sk-top-container\"><div class=\"sk-text-repr-fallback\"><pre>LinearRegression()</pre><b>In a Jupyter environment, please rerun this cell to show the HTML representation or trust the notebook. <br />On GitHub, the HTML representation is unable to render, please try loading this page with nbviewer.org.</b></div><div class=\"sk-container\" hidden><div class=\"sk-item\"><div class=\"sk-estimator sk-toggleable\"><input class=\"sk-toggleable__control sk-hidden--visually\" id=\"sk-estimator-id-3\" type=\"checkbox\" checked><label for=\"sk-estimator-id-3\" class=\"sk-toggleable__label sk-toggleable__label-arrow\">LinearRegression</label><div class=\"sk-toggleable__content\"><pre>LinearRegression()</pre></div></div></div></div></div>"
            ]
          },
          "metadata": {},
          "execution_count": 44
        }
      ]
    },
    {
      "cell_type": "code",
      "source": [
        "# Create and train the third Logistic Regression model\n",
        "model3 = LinearRegression()\n",
        "X_train3 = client_data[2][0]\n",
        "y_train3 = client_data[2][1]\n",
        "model3.fit(X_train3, y_train3)"
      ],
      "metadata": {
        "colab": {
          "base_uri": "https://localhost:8080/"
        },
        "id": "2F_xIZQ0Q7GR",
        "outputId": "b20c4d75-9f8a-49ba-fb1d-5c77415f1fd6"
      },
      "execution_count": null,
      "outputs": [
        {
          "output_type": "execute_result",
          "data": {
            "text/plain": [
              "LinearRegression()"
            ],
            "text/html": [
              "<style>#sk-container-id-4 {color: black;background-color: white;}#sk-container-id-4 pre{padding: 0;}#sk-container-id-4 div.sk-toggleable {background-color: white;}#sk-container-id-4 label.sk-toggleable__label {cursor: pointer;display: block;width: 100%;margin-bottom: 0;padding: 0.3em;box-sizing: border-box;text-align: center;}#sk-container-id-4 label.sk-toggleable__label-arrow:before {content: \"▸\";float: left;margin-right: 0.25em;color: #696969;}#sk-container-id-4 label.sk-toggleable__label-arrow:hover:before {color: black;}#sk-container-id-4 div.sk-estimator:hover label.sk-toggleable__label-arrow:before {color: black;}#sk-container-id-4 div.sk-toggleable__content {max-height: 0;max-width: 0;overflow: hidden;text-align: left;background-color: #f0f8ff;}#sk-container-id-4 div.sk-toggleable__content pre {margin: 0.2em;color: black;border-radius: 0.25em;background-color: #f0f8ff;}#sk-container-id-4 input.sk-toggleable__control:checked~div.sk-toggleable__content {max-height: 200px;max-width: 100%;overflow: auto;}#sk-container-id-4 input.sk-toggleable__control:checked~label.sk-toggleable__label-arrow:before {content: \"▾\";}#sk-container-id-4 div.sk-estimator input.sk-toggleable__control:checked~label.sk-toggleable__label {background-color: #d4ebff;}#sk-container-id-4 div.sk-label input.sk-toggleable__control:checked~label.sk-toggleable__label {background-color: #d4ebff;}#sk-container-id-4 input.sk-hidden--visually {border: 0;clip: rect(1px 1px 1px 1px);clip: rect(1px, 1px, 1px, 1px);height: 1px;margin: -1px;overflow: hidden;padding: 0;position: absolute;width: 1px;}#sk-container-id-4 div.sk-estimator {font-family: monospace;background-color: #f0f8ff;border: 1px dotted black;border-radius: 0.25em;box-sizing: border-box;margin-bottom: 0.5em;}#sk-container-id-4 div.sk-estimator:hover {background-color: #d4ebff;}#sk-container-id-4 div.sk-parallel-item::after {content: \"\";width: 100%;border-bottom: 1px solid gray;flex-grow: 1;}#sk-container-id-4 div.sk-label:hover label.sk-toggleable__label {background-color: #d4ebff;}#sk-container-id-4 div.sk-serial::before {content: \"\";position: absolute;border-left: 1px solid gray;box-sizing: border-box;top: 0;bottom: 0;left: 50%;z-index: 0;}#sk-container-id-4 div.sk-serial {display: flex;flex-direction: column;align-items: center;background-color: white;padding-right: 0.2em;padding-left: 0.2em;position: relative;}#sk-container-id-4 div.sk-item {position: relative;z-index: 1;}#sk-container-id-4 div.sk-parallel {display: flex;align-items: stretch;justify-content: center;background-color: white;position: relative;}#sk-container-id-4 div.sk-item::before, #sk-container-id-4 div.sk-parallel-item::before {content: \"\";position: absolute;border-left: 1px solid gray;box-sizing: border-box;top: 0;bottom: 0;left: 50%;z-index: -1;}#sk-container-id-4 div.sk-parallel-item {display: flex;flex-direction: column;z-index: 1;position: relative;background-color: white;}#sk-container-id-4 div.sk-parallel-item:first-child::after {align-self: flex-end;width: 50%;}#sk-container-id-4 div.sk-parallel-item:last-child::after {align-self: flex-start;width: 50%;}#sk-container-id-4 div.sk-parallel-item:only-child::after {width: 0;}#sk-container-id-4 div.sk-dashed-wrapped {border: 1px dashed gray;margin: 0 0.4em 0.5em 0.4em;box-sizing: border-box;padding-bottom: 0.4em;background-color: white;}#sk-container-id-4 div.sk-label label {font-family: monospace;font-weight: bold;display: inline-block;line-height: 1.2em;}#sk-container-id-4 div.sk-label-container {text-align: center;}#sk-container-id-4 div.sk-container {/* jupyter's `normalize.less` sets `[hidden] { display: none; }` but bootstrap.min.css set `[hidden] { display: none !important; }` so we also need the `!important` here to be able to override the default hidden behavior on the sphinx rendered scikit-learn.org. See: https://github.com/scikit-learn/scikit-learn/issues/21755 */display: inline-block !important;position: relative;}#sk-container-id-4 div.sk-text-repr-fallback {display: none;}</style><div id=\"sk-container-id-4\" class=\"sk-top-container\"><div class=\"sk-text-repr-fallback\"><pre>LinearRegression()</pre><b>In a Jupyter environment, please rerun this cell to show the HTML representation or trust the notebook. <br />On GitHub, the HTML representation is unable to render, please try loading this page with nbviewer.org.</b></div><div class=\"sk-container\" hidden><div class=\"sk-item\"><div class=\"sk-estimator sk-toggleable\"><input class=\"sk-toggleable__control sk-hidden--visually\" id=\"sk-estimator-id-4\" type=\"checkbox\" checked><label for=\"sk-estimator-id-4\" class=\"sk-toggleable__label sk-toggleable__label-arrow\">LinearRegression</label><div class=\"sk-toggleable__content\"><pre>LinearRegression()</pre></div></div></div></div></div>"
            ]
          },
          "metadata": {},
          "execution_count": 45
        }
      ]
    },
    {
      "cell_type": "markdown",
      "source": [
        "####3. Local predictions and calculate accuracy"
      ],
      "metadata": {
        "id": "Yqer905cSYis"
      }
    },
    {
      "cell_type": "code",
      "source": [
        "# Make predictions on the test data using the local models\n",
        "y_pred1 = model1.predict(X_test)\n",
        "y_pred1 = classify(y_pred1)\n",
        "y_pred2 = model2.predict(X_test)\n",
        "y_pred2 = classify(y_pred2)\n",
        "y_pred3 = model3.predict(X_test)\n",
        "y_pred3 = classify(y_pred3)"
      ],
      "metadata": {
        "id": "OlMD4RmdNxs0"
      },
      "execution_count": null,
      "outputs": []
    },
    {
      "cell_type": "code",
      "source": [
        "# Calculate accuracy\n",
        "accuracy1 = accuracy_score(y_test, y_pred1)\n",
        "print(\"Accuracy:\", accuracy1)"
      ],
      "metadata": {
        "colab": {
          "base_uri": "https://localhost:8080/"
        },
        "id": "7f5BkxZKNxnr",
        "outputId": "ff023d38-2487-4320-9579-4f593c820cc3"
      },
      "execution_count": null,
      "outputs": [
        {
          "output_type": "stream",
          "name": "stdout",
          "text": [
            "Accuracy: 0.7887215734480639\n"
          ]
        }
      ]
    },
    {
      "cell_type": "code",
      "source": [
        "accuracy2 = accuracy_score(y_test, y_pred2)\n",
        "print(\"Accuracy:\", accuracy2)"
      ],
      "metadata": {
        "colab": {
          "base_uri": "https://localhost:8080/"
        },
        "id": "IzuRSQY6SwWW",
        "outputId": "4318e8e1-2b5a-44e7-f569-3a53c11cc5c6"
      },
      "execution_count": null,
      "outputs": [
        {
          "output_type": "stream",
          "name": "stdout",
          "text": [
            "Accuracy: 0.7899508297480025\n"
          ]
        }
      ]
    },
    {
      "cell_type": "code",
      "source": [
        "accuracy3 = accuracy_score(y_test, y_pred3)\n",
        "print(\"Accuracy:\", accuracy3)"
      ],
      "metadata": {
        "colab": {
          "base_uri": "https://localhost:8080/"
        },
        "id": "Dr4Wv-vxSwTO",
        "outputId": "68dc1f04-4c57-4cf3-b822-8cd4be29dac0"
      },
      "execution_count": null,
      "outputs": [
        {
          "output_type": "stream",
          "name": "stdout",
          "text": [
            "Accuracy: 0.7917947141979103\n"
          ]
        }
      ]
    },
    {
      "cell_type": "markdown",
      "source": [
        "####4. Get global model by taking avg of local models"
      ],
      "metadata": {
        "id": "1iejlL8YSOB3"
      }
    },
    {
      "cell_type": "code",
      "source": [
        "# Average the coefficients and intercepts of the two models\n",
        "\n",
        "global_model = copy.deepcopy(model1)"
      ],
      "metadata": {
        "id": "7Y7tcDxgNx5B"
      },
      "execution_count": null,
      "outputs": []
    },
    {
      "cell_type": "code",
      "source": [
        "print(f\"coeff={global_model.coef_} intercept={global_model.intercept_}\")"
      ],
      "metadata": {
        "colab": {
          "base_uri": "https://localhost:8080/"
        },
        "id": "uJN4POY0snmk",
        "outputId": "3c149e8c-3b67-4e12-adb8-8cda7165afbe"
      },
      "execution_count": null,
      "outputs": [
        {
          "output_type": "stream",
          "name": "stdout",
          "text": [
            "coeff=[-5.38645681e-03 -7.58844553e-06 -9.71012529e-05 -2.70209060e-03\n",
            "  6.37705696e-02 -2.98597920e-02  7.19783376e-02 -4.20086711e-01\n",
            " -1.57308509e-01 -2.88904186e-02  1.64924462e-02 -5.25588521e-03\n",
            " -4.72225107e-02  3.00415832e-02  3.55328476e-02 -1.10037237e-01\n",
            "  1.38563423e-01  6.54552944e-02  4.61573855e-02  4.01660622e-02\n",
            "  7.77794611e-04 -8.66098443e-03 -8.76110628e-03 -2.24560855e-02\n",
            " -7.11135796e-02  3.69371213e-02  1.22292320e-02 -4.60094099e-03\n",
            "  2.18778417e-02  2.41425801e-02  8.70824465e-02  6.32979920e-02\n",
            " -9.59114124e-02 -8.77619254e-02 -1.96475199e-01 -4.01981871e-01\n",
            " -1.44733390e-02 -2.95642525e-01  1.06213773e-03 -3.56348559e-01\n",
            " -7.42723022e-02  1.21388579e-01  1.11682018e-01  1.31178451e-01\n",
            "  1.17341589e-01 -8.22381497e-02 -7.21424203e-02 -5.29605791e-02\n",
            "  1.81252875e-02 -4.97493951e-02 -6.27628572e-02 -1.03015530e-01\n",
            " -6.25473707e-02  3.07342172e-02 -1.56786478e-01 -9.77810309e-02\n",
            " -5.99981562e-03 -6.93973399e-02 -2.18992531e-01 -1.88482834e-01\n",
            " -1.00831795e-01  3.21391371e-02 -1.41010832e-01 -1.31801615e-01\n",
            "  3.59327814e-02 -1.52152138e-01 -5.48859002e-02 -1.82997964e-01\n",
            "  6.99433167e-02 -1.57297781e-01  6.03323487e-02 -1.64814254e-01\n",
            " -1.37877873e-01 -1.87848076e-01 -7.39643946e-02 -8.28842072e-02\n",
            " -4.93628154e-02  8.09746528e-02 -9.78254838e-02 -2.09754945e-01\n",
            " -1.62198668e-01 -8.26713729e-02 -1.01812235e-01 -2.52427403e-01\n",
            "  4.22295926e-03  3.65919311e-02 -9.18134874e-02 -1.03140038e-01\n",
            " -1.39279960e-01  4.52101740e-02 -4.74877369e-02] intercept=1.177564840425174\n"
          ]
        }
      ]
    },
    {
      "cell_type": "code",
      "source": [
        "print(f\"coeff={model1.coef_} intercept={model1.intercept_}\")"
      ],
      "metadata": {
        "colab": {
          "base_uri": "https://localhost:8080/"
        },
        "id": "0s5MzfHUu4xY",
        "outputId": "ff979f39-277d-4b58-f093-a4359d3b149c"
      },
      "execution_count": null,
      "outputs": [
        {
          "output_type": "stream",
          "name": "stdout",
          "text": [
            "coeff=[-5.38645681e-03 -7.58844553e-06 -9.71012529e-05 -2.70209060e-03\n",
            "  6.37705696e-02 -2.98597920e-02  7.19783376e-02 -4.20086711e-01\n",
            " -1.57308509e-01 -2.88904186e-02  1.64924462e-02 -5.25588521e-03\n",
            " -4.72225107e-02  3.00415832e-02  3.55328476e-02 -1.10037237e-01\n",
            "  1.38563423e-01  6.54552944e-02  4.61573855e-02  4.01660622e-02\n",
            "  7.77794611e-04 -8.66098443e-03 -8.76110628e-03 -2.24560855e-02\n",
            " -7.11135796e-02  3.69371213e-02  1.22292320e-02 -4.60094099e-03\n",
            "  2.18778417e-02  2.41425801e-02  8.70824465e-02  6.32979920e-02\n",
            " -9.59114124e-02 -8.77619254e-02 -1.96475199e-01 -4.01981871e-01\n",
            " -1.44733390e-02 -2.95642525e-01  1.06213773e-03 -3.56348559e-01\n",
            " -7.42723022e-02  1.21388579e-01  1.11682018e-01  1.31178451e-01\n",
            "  1.17341589e-01 -8.22381497e-02 -7.21424203e-02 -5.29605791e-02\n",
            "  1.81252875e-02 -4.97493951e-02 -6.27628572e-02 -1.03015530e-01\n",
            " -6.25473707e-02  3.07342172e-02 -1.56786478e-01 -9.77810309e-02\n",
            " -5.99981562e-03 -6.93973399e-02 -2.18992531e-01 -1.88482834e-01\n",
            " -1.00831795e-01  3.21391371e-02 -1.41010832e-01 -1.31801615e-01\n",
            "  3.59327814e-02 -1.52152138e-01 -5.48859002e-02 -1.82997964e-01\n",
            "  6.99433167e-02 -1.57297781e-01  6.03323487e-02 -1.64814254e-01\n",
            " -1.37877873e-01 -1.87848076e-01 -7.39643946e-02 -8.28842072e-02\n",
            " -4.93628154e-02  8.09746528e-02 -9.78254838e-02 -2.09754945e-01\n",
            " -1.62198668e-01 -8.26713729e-02 -1.01812235e-01 -2.52427403e-01\n",
            "  4.22295926e-03  3.65919311e-02 -9.18134874e-02 -1.03140038e-01\n",
            " -1.39279960e-01  4.52101740e-02 -4.74877369e-02] intercept=1.177564840425174\n"
          ]
        }
      ]
    },
    {
      "cell_type": "code",
      "source": [
        "print(f\"coeff={model2.coef_} intercept={model2.intercept_}\")"
      ],
      "metadata": {
        "colab": {
          "base_uri": "https://localhost:8080/"
        },
        "id": "PClqBPkvu4iQ",
        "outputId": "015eb6e8-dee8-4b82-d23c-4df383dd193d"
      },
      "execution_count": null,
      "outputs": [
        {
          "output_type": "stream",
          "name": "stdout",
          "text": [
            "coeff=[-1.00678551e-02 -9.16135469e-06 -8.90047029e-05 -3.08310909e-03\n",
            "  5.96161863e-02 -3.45979183e-02  5.44670406e-02 -5.61343437e-02\n",
            " -9.70047350e-02 -1.95025739e-02 -1.26993922e-02 -4.52107862e-02\n",
            " -3.63389366e-02  8.25246602e-02  2.29129805e-02 -1.43629258e-01\n",
            "  1.24612152e-01  5.93782267e-02  5.58028050e-02  2.72730947e-02\n",
            " -3.88119985e-02 -4.49982583e-02 -1.29375547e-01 -4.61241024e-02\n",
            " -6.87926147e-02  1.99095601e-02  7.98535057e-04 -1.75839433e-02\n",
            "  2.63599135e-02  6.61577820e-02  7.41174882e-02  1.51577224e-03\n",
            " -9.42373467e-02 -1.09728919e-01 -2.04710426e-01 -4.07245484e-01\n",
            " -3.60164603e-02 -2.96219619e-01  2.27545605e-02 -3.56895165e-01\n",
            " -7.30510946e-02  1.89945003e-01  1.63597734e-01  1.98054622e-01\n",
            "  1.70822618e-01 -1.21193941e-01 -3.75979243e-02 -2.54913098e-02\n",
            "  7.20480644e-03 -6.10277019e-02 -5.45797613e-02  1.94862663e-01\n",
            "  3.63900694e-01  3.23572714e-01  3.74104235e-01  4.12175674e-01\n",
            "  2.83048433e-01  2.51231085e-01  2.58223515e-01  4.01460845e-01\n",
            "  1.79758963e-01  2.33796317e-01  2.67978807e-01  2.23021153e-01\n",
            " -1.11022302e-15  3.57971144e-01  2.66189082e-01  3.10175649e-01\n",
            "  3.40424763e-01  1.82678256e-01  2.31567314e-01  7.76742020e-02\n",
            "  2.31725175e-01  2.19138319e-01  2.60514079e-01  2.93435888e-01\n",
            "  3.47629124e-01  2.55323010e-01  3.05884684e-01  2.23596982e-01\n",
            "  4.43999516e-01  2.13620870e-01  2.96948783e-01  2.67517628e-01\n",
            "  4.42225387e-01  2.49927316e-01  3.78483579e-01  2.86824356e-01\n",
            "  2.53240403e-01  3.17508993e-01  1.91715028e-01] intercept=0.7905286978982888\n"
          ]
        }
      ]
    },
    {
      "cell_type": "code",
      "source": [
        "print(f\"coeff={model3.coef_} intercept={model3.intercept_}\")"
      ],
      "metadata": {
        "colab": {
          "base_uri": "https://localhost:8080/"
        },
        "id": "nYunhzflu4Yv",
        "outputId": "4641bd87-492a-46c8-d46d-485b8823c988"
      },
      "execution_count": null,
      "outputs": [
        {
          "output_type": "stream",
          "name": "stdout",
          "text": [
            "coeff=[-2.62415653e-02 -7.94022909e-06 -9.56307432e-05 -2.84730567e-03\n",
            "  5.59968640e-02 -2.49653203e-02  4.39677940e-02 -1.43641090e-01\n",
            " -9.90976941e-02 -1.58441465e-02  3.19509464e-02  1.71153177e-03\n",
            " -5.65236153e-02  7.85775129e-02  1.48334098e-02 -1.20101907e-01\n",
            "  1.12217749e-01  4.37860342e-02  4.76903720e-02  2.52873571e-02\n",
            "  8.91452079e-03 -1.53678972e-02 -5.34412082e-02 -2.78746220e-02\n",
            " -7.85103643e-02  5.51529949e-02 -4.61385379e-02 -6.28518237e-02\n",
            " -8.61897651e-04  1.78099849e-02  3.12965787e-02  2.92366669e-02\n",
            " -1.40587958e-01 -1.29784712e-01 -2.34866707e-01 -4.83282981e-01\n",
            " -5.91525267e-02 -3.15588232e-01  1.54607256e-01 -4.26479334e-01\n",
            " -1.01517188e-01  1.55942321e-01  1.44123498e-01  1.58189709e-01\n",
            "  1.56382731e-01 -1.02306601e-01 -3.24513154e-03 -4.65805482e-02\n",
            " -3.68208331e-02 -4.21962452e-02 -6.79247970e-02  4.37737259e-01\n",
            "  5.11457518e-01  5.98390236e-01  3.47999273e-01  5.06730501e-01\n",
            "  3.33771176e-01  5.08578937e-01  4.27265882e-01  3.26442008e-01\n",
            "  4.25057930e-01  6.79215847e-01  4.64528456e-01  5.55236040e-01\n",
            "  4.71844785e-16  5.67452878e-01  4.46623799e-01  6.54406620e-01\n",
            "  4.13454405e-01  4.56821627e-01  3.75622803e-01  4.61180865e-01\n",
            "  4.65353043e-01  4.67475256e-01  6.03211329e-01  5.49544792e-01\n",
            "  5.48839075e-01  7.97989246e-01  5.79223897e-01  3.93148108e-01\n",
            "  5.36751552e-01  6.03621317e-01  5.73199064e-01  8.13834891e-01\n",
            "  4.90277319e-01  4.93804734e-01  4.46191780e-01  5.35383578e-01\n",
            "  4.86076213e-01  4.77724259e-01 -1.59381573e-01] intercept=0.578317017397832\n"
          ]
        }
      ]
    },
    {
      "cell_type": "code",
      "source": [
        "global_model.coef_ = (model1.coef_ + model2.coef_ + model3.coef_) / 3"
      ],
      "metadata": {
        "id": "aD8aVre-uW_d"
      },
      "execution_count": null,
      "outputs": []
    },
    {
      "cell_type": "code",
      "source": [
        "global_model.intercept_ = (model1.intercept_ + model2.intercept_ + model3.intercept_) / 3"
      ],
      "metadata": {
        "id": "sGTY1I72tRiN"
      },
      "execution_count": null,
      "outputs": []
    },
    {
      "cell_type": "code",
      "source": [
        "print(f\"coeff={global_model.coef_} intercept={global_model.intercept_}\")"
      ],
      "metadata": {
        "colab": {
          "base_uri": "https://localhost:8080/"
        },
        "id": "mcungK0cp0Zk",
        "outputId": "66934f15-19a0-40fe-e118-30ad99c8a220"
      },
      "execution_count": null,
      "outputs": [
        {
          "output_type": "stream",
          "name": "stdout",
          "text": [
            "coeff=[-1.38986257e-02 -8.23000977e-06 -9.39122330e-05 -2.87750179e-03\n",
            "  5.97945400e-02 -2.98076769e-02  5.68043907e-02 -2.06620715e-01\n",
            " -1.17803646e-01 -2.14123797e-02  1.19146668e-02 -1.62517132e-02\n",
            " -4.66950209e-02  6.37145854e-02  2.44264126e-02 -1.24589467e-01\n",
            "  1.25131108e-01  5.62065184e-02  4.98835208e-02  3.09088380e-02\n",
            " -9.70656104e-03 -2.30090466e-02 -6.38592871e-02 -3.21516033e-02\n",
            " -7.28055195e-02  3.73332254e-02 -1.10369236e-02 -2.83455693e-02\n",
            "  1.57919525e-02  3.60367824e-02  6.41655045e-02  3.13501437e-02\n",
            " -1.10245572e-01 -1.09091852e-01 -2.12017444e-01 -4.30836779e-01\n",
            " -3.65474420e-02 -3.02483459e-01  5.94746514e-02 -3.79907686e-01\n",
            " -8.29468618e-02  1.55758634e-01  1.39801083e-01  1.62474261e-01\n",
            "  1.48182313e-01 -1.01912897e-01 -3.76618254e-02 -4.16774791e-02\n",
            " -3.83024637e-03 -5.09911140e-02 -6.17558052e-02  1.76528130e-01\n",
            "  2.70936947e-01  3.17565722e-01  1.88439010e-01  2.73708381e-01\n",
            "  2.03606598e-01  2.30137561e-01  1.55498955e-01  1.79806673e-01\n",
            "  1.67995033e-01  3.15050434e-01  1.97165477e-01  2.15485193e-01\n",
            "  1.19775938e-02  2.57757295e-01  2.19308994e-01  2.60528101e-01\n",
            "  2.74607495e-01  1.60734034e-01  2.22507489e-01  1.24680271e-01\n",
            "  1.86400115e-01  1.66255166e-01  2.63253671e-01  2.53365491e-01\n",
            "  2.82368461e-01  3.78095636e-01  2.62427699e-01  1.35663381e-01\n",
            "  2.72850800e-01  2.44856938e-01  2.56111870e-01  2.76308372e-01\n",
            "  3.12241889e-01  2.60107994e-01  2.44287291e-01  2.39689299e-01\n",
            "  2.00012219e-01  2.80147809e-01 -5.05142758e-03] intercept=0.8488035185737649\n"
          ]
        }
      ]
    },
    {
      "cell_type": "code",
      "source": [
        "type(global_model.coef_)"
      ],
      "metadata": {
        "colab": {
          "base_uri": "https://localhost:8080/"
        },
        "id": "rujmUYTZp9_U",
        "outputId": "b6b1d046-4c1b-4f04-c8fe-ad62888a5cc0"
      },
      "execution_count": null,
      "outputs": [
        {
          "output_type": "execute_result",
          "data": {
            "text/plain": [
              "numpy.ndarray"
            ]
          },
          "metadata": {},
          "execution_count": 58
        }
      ]
    },
    {
      "cell_type": "markdown",
      "source": [
        "####5. Global model prediction and accuracy"
      ],
      "metadata": {
        "id": "gbZk34KfSVES"
      }
    },
    {
      "cell_type": "code",
      "source": [
        "# Make predictions on the test data using the global model\n",
        "y_pred = global_model.predict(X_test)\n",
        "y_pred = classify(y_pred)"
      ],
      "metadata": {
        "id": "OKLqbA6WNx2k"
      },
      "execution_count": null,
      "outputs": []
    },
    {
      "cell_type": "code",
      "source": [
        "# Calculate accuracy\n",
        "from sklearn.metrics import accuracy_score\n",
        "accuracy = accuracy_score(y_pred,y_test)\n",
        "print(\"Accuracy:\", accuracy)"
      ],
      "metadata": {
        "colab": {
          "base_uri": "https://localhost:8080/"
        },
        "id": "gDtVBlWk8brl",
        "outputId": "056d982e-b8ef-4d76-b71e-f6b25a56e828"
      },
      "execution_count": null,
      "outputs": [
        {
          "output_type": "stream",
          "name": "stdout",
          "text": [
            "Accuracy: 0.7919483712354026\n"
          ]
        }
      ]
    }
  ]
}